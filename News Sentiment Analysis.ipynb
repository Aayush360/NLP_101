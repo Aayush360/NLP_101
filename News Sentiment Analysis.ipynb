{
 "cells": [
  {
   "cell_type": "code",
   "execution_count": 10,
   "id": "08b2bb5d",
   "metadata": {},
   "outputs": [],
   "source": [
    "import pandas as pd"
   ]
  },
  {
   "cell_type": "code",
   "execution_count": 11,
   "id": "511a1227",
   "metadata": {},
   "outputs": [],
   "source": [
    "df=pd.read_csv('dataset/ronb_dataset.csv',delimiter=';')"
   ]
  },
  {
   "cell_type": "code",
   "execution_count": 12,
   "id": "1052f71d",
   "metadata": {},
   "outputs": [
    {
     "data": {
      "text/html": [
       "<div>\n",
       "<style scoped>\n",
       "    .dataframe tbody tr th:only-of-type {\n",
       "        vertical-align: middle;\n",
       "    }\n",
       "\n",
       "    .dataframe tbody tr th {\n",
       "        vertical-align: top;\n",
       "    }\n",
       "\n",
       "    .dataframe thead th {\n",
       "        text-align: right;\n",
       "    }\n",
       "</style>\n",
       "<table border=\"1\" class=\"dataframe\">\n",
       "  <thead>\n",
       "    <tr style=\"text-align: right;\">\n",
       "      <th></th>\n",
       "      <th>Description</th>\n",
       "      <th>Intent</th>\n",
       "    </tr>\n",
       "  </thead>\n",
       "  <tbody>\n",
       "    <tr>\n",
       "      <th>0</th>\n",
       "      <td>Flood/Landslide Update: Death count due to cur...</td>\n",
       "      <td>Sad</td>\n",
       "    </tr>\n",
       "    <tr>\n",
       "      <th>1</th>\n",
       "      <td>Kathmandu bata Pokhara jadai gareko Car Trisul...</td>\n",
       "      <td>Sad</td>\n",
       "    </tr>\n",
       "    <tr>\n",
       "      <th>2</th>\n",
       "      <td>Growing danger in Kathmandu area: A boy of aro...</td>\n",
       "      <td>Sad</td>\n",
       "    </tr>\n",
       "    <tr>\n",
       "      <th>3</th>\n",
       "      <td>Kathmandu District Administration Office le ma...</td>\n",
       "      <td>Surprise</td>\n",
       "    </tr>\n",
       "    <tr>\n",
       "      <th>4</th>\n",
       "      <td>Popular Netflix Series Money Heist ( La Casa d...</td>\n",
       "      <td>Surprise</td>\n",
       "    </tr>\n",
       "  </tbody>\n",
       "</table>\n",
       "</div>"
      ],
      "text/plain": [
       "                                         Description    Intent\n",
       "0  Flood/Landslide Update: Death count due to cur...       Sad\n",
       "1  Kathmandu bata Pokhara jadai gareko Car Trisul...       Sad\n",
       "2  Growing danger in Kathmandu area: A boy of aro...       Sad\n",
       "3  Kathmandu District Administration Office le ma...  Surprise\n",
       "4  Popular Netflix Series Money Heist ( La Casa d...  Surprise"
      ]
     },
     "execution_count": 12,
     "metadata": {},
     "output_type": "execute_result"
    }
   ],
   "source": [
    "df.head()"
   ]
  },
  {
   "cell_type": "code",
   "execution_count": 13,
   "id": "baa4ef72",
   "metadata": {},
   "outputs": [
    {
     "data": {
      "text/plain": [
       "(625, 2)"
      ]
     },
     "execution_count": 13,
     "metadata": {},
     "output_type": "execute_result"
    }
   ],
   "source": [
    "df.shape"
   ]
  },
  {
   "cell_type": "code",
   "execution_count": 14,
   "id": "0b6be306",
   "metadata": {},
   "outputs": [
    {
     "data": {
      "text/html": [
       "<div>\n",
       "<style scoped>\n",
       "    .dataframe tbody tr th:only-of-type {\n",
       "        vertical-align: middle;\n",
       "    }\n",
       "\n",
       "    .dataframe tbody tr th {\n",
       "        vertical-align: top;\n",
       "    }\n",
       "\n",
       "    .dataframe thead th {\n",
       "        text-align: right;\n",
       "    }\n",
       "</style>\n",
       "<table border=\"1\" class=\"dataframe\">\n",
       "  <thead>\n",
       "    <tr style=\"text-align: right;\">\n",
       "      <th></th>\n",
       "      <th>Description</th>\n",
       "      <th>Intent</th>\n",
       "    </tr>\n",
       "  </thead>\n",
       "  <tbody>\n",
       "    <tr>\n",
       "      <th>620</th>\n",
       "      <td>Medical Students protesting in front of Kathma...</td>\n",
       "      <td>Sad</td>\n",
       "    </tr>\n",
       "    <tr>\n",
       "      <th>621</th>\n",
       "      <td>CIAA (Akhtiyar) le Krishi Samagri Company Ltd ...</td>\n",
       "      <td>Surprise</td>\n",
       "    </tr>\n",
       "    <tr>\n",
       "      <th>622</th>\n",
       "      <td>Swikar Poudel from Pokhara got 3rd position in...</td>\n",
       "      <td>Surprise</td>\n",
       "    </tr>\n",
       "    <tr>\n",
       "      <th>623</th>\n",
       "      <td>Current fiscal year ko first 5 months ma Nepal...</td>\n",
       "      <td>Sad</td>\n",
       "    </tr>\n",
       "    <tr>\n",
       "      <th>624</th>\n",
       "      <td>Chauchau ko Carton bhitra NRs. 50 Lakh Cash lu...</td>\n",
       "      <td>Funny</td>\n",
       "    </tr>\n",
       "  </tbody>\n",
       "</table>\n",
       "</div>"
      ],
      "text/plain": [
       "                                           Description    Intent\n",
       "620  Medical Students protesting in front of Kathma...       Sad\n",
       "621  CIAA (Akhtiyar) le Krishi Samagri Company Ltd ...  Surprise\n",
       "622  Swikar Poudel from Pokhara got 3rd position in...  Surprise\n",
       "623  Current fiscal year ko first 5 months ma Nepal...       Sad\n",
       "624  Chauchau ko Carton bhitra NRs. 50 Lakh Cash lu...     Funny"
      ]
     },
     "execution_count": 14,
     "metadata": {},
     "output_type": "execute_result"
    }
   ],
   "source": [
    "df.tail()"
   ]
  },
  {
   "cell_type": "code",
   "execution_count": 15,
   "id": "c6485f0c",
   "metadata": {},
   "outputs": [
    {
     "data": {
      "text/plain": [
       "Index(['Description', 'Intent'], dtype='object')"
      ]
     },
     "execution_count": 15,
     "metadata": {},
     "output_type": "execute_result"
    }
   ],
   "source": [
    "df.columns"
   ]
  },
  {
   "cell_type": "code",
   "execution_count": 16,
   "id": "51f724dd",
   "metadata": {},
   "outputs": [
    {
     "data": {
      "text/plain": [
       "Surprise    280\n",
       "Sad         241\n",
       "Funny        72\n",
       "Angry        32\n",
       "Name: Intent, dtype: int64"
      ]
     },
     "execution_count": 16,
     "metadata": {},
     "output_type": "execute_result"
    }
   ],
   "source": [
    "df['Intent'].value_counts()"
   ]
  },
  {
   "cell_type": "code",
   "execution_count": 17,
   "id": "eb967871",
   "metadata": {},
   "outputs": [
    {
     "data": {
      "text/plain": [
       "array(['Sad', 'Surprise', 'Funny', 'Angry'], dtype=object)"
      ]
     },
     "execution_count": 17,
     "metadata": {},
     "output_type": "execute_result"
    }
   ],
   "source": [
    "df['Intent'].unique()"
   ]
  },
  {
   "cell_type": "code",
   "execution_count": 18,
   "id": "0204b9f4",
   "metadata": {},
   "outputs": [
    {
     "data": {
      "text/html": [
       "<div>\n",
       "<style scoped>\n",
       "    .dataframe tbody tr th:only-of-type {\n",
       "        vertical-align: middle;\n",
       "    }\n",
       "\n",
       "    .dataframe tbody tr th {\n",
       "        vertical-align: top;\n",
       "    }\n",
       "\n",
       "    .dataframe thead th {\n",
       "        text-align: right;\n",
       "    }\n",
       "</style>\n",
       "<table border=\"1\" class=\"dataframe\">\n",
       "  <thead>\n",
       "    <tr style=\"text-align: right;\">\n",
       "      <th></th>\n",
       "      <th>Description</th>\n",
       "      <th>Intent</th>\n",
       "    </tr>\n",
       "  </thead>\n",
       "  <tbody>\n",
       "  </tbody>\n",
       "</table>\n",
       "</div>"
      ],
      "text/plain": [
       "Empty DataFrame\n",
       "Columns: [Description, Intent]\n",
       "Index: []"
      ]
     },
     "execution_count": 18,
     "metadata": {},
     "output_type": "execute_result"
    }
   ],
   "source": [
    "df[df['Intent']=='nan']"
   ]
  },
  {
   "cell_type": "code",
   "execution_count": 19,
   "id": "837ff18c",
   "metadata": {},
   "outputs": [
    {
     "data": {
      "text/html": [
       "<div>\n",
       "<style scoped>\n",
       "    .dataframe tbody tr th:only-of-type {\n",
       "        vertical-align: middle;\n",
       "    }\n",
       "\n",
       "    .dataframe tbody tr th {\n",
       "        vertical-align: top;\n",
       "    }\n",
       "\n",
       "    .dataframe thead th {\n",
       "        text-align: right;\n",
       "    }\n",
       "</style>\n",
       "<table border=\"1\" class=\"dataframe\">\n",
       "  <thead>\n",
       "    <tr style=\"text-align: right;\">\n",
       "      <th></th>\n",
       "      <th>Description</th>\n",
       "      <th>Intent</th>\n",
       "    </tr>\n",
       "  </thead>\n",
       "  <tbody>\n",
       "  </tbody>\n",
       "</table>\n",
       "</div>"
      ],
      "text/plain": [
       "Empty DataFrame\n",
       "Columns: [Description, Intent]\n",
       "Index: []"
      ]
     },
     "execution_count": 19,
     "metadata": {},
     "output_type": "execute_result"
    }
   ],
   "source": [
    "df[df['Intent'].isna()]"
   ]
  },
  {
   "cell_type": "code",
   "execution_count": 20,
   "id": "1a75211f",
   "metadata": {},
   "outputs": [
    {
     "data": {
      "text/plain": [
       "array([\"A discussion about Nepal's current situation happened at UK's parliament where the members talked about helping Nepal in present condition. They also talk about how Nepal's Gurkhas have helped UK in need. P.S. UK is sending medical team next week to help Nepal.\",\n",
       "       'Surprise'], dtype=object)"
      ]
     },
     "execution_count": 20,
     "metadata": {},
     "output_type": "execute_result"
    }
   ],
   "source": [
    "df.iloc[14].values"
   ]
  },
  {
   "cell_type": "code",
   "execution_count": 70,
   "id": "7ebfac25",
   "metadata": {},
   "outputs": [],
   "source": [
    "import pandas as pd\n",
    "import numpy as np\n",
    "\n",
    "from sklearn.model_selection import StratifiedShuffleSplit\n",
    "\n",
    "from tensorflow import keras\n",
    "\n",
    "from keras.preprocessing.text import Tokenizer\n",
    "from keras.preprocessing.sequence import pad_sequences\n",
    "from tensorflow.keras.utils import to_categorical\n",
    "\n",
    "from sklearn.preprocessing import LabelEncoder"
   ]
  },
  {
   "cell_type": "code",
   "execution_count": 71,
   "id": "dfbda05b",
   "metadata": {},
   "outputs": [],
   "source": [
    "tgt = df['Intent']"
   ]
  },
  {
   "cell_type": "code",
   "execution_count": 72,
   "id": "aa76cc4f",
   "metadata": {},
   "outputs": [
    {
     "data": {
      "text/plain": [
       "array(['Angry', 'Funny', 'Sad', 'Surprise'], dtype=object)"
      ]
     },
     "execution_count": 72,
     "metadata": {},
     "output_type": "execute_result"
    }
   ],
   "source": [
    "np.unique(tgt)"
   ]
  },
  {
   "cell_type": "code",
   "execution_count": 73,
   "id": "f2c0570b",
   "metadata": {},
   "outputs": [],
   "source": [
    "# copying the dataframe \n",
    "\n",
    "t2 = df.copy()"
   ]
  },
  {
   "cell_type": "code",
   "execution_count": 74,
   "id": "9088aad7",
   "metadata": {},
   "outputs": [],
   "source": [
    "sss = StratifiedShuffleSplit(test_size=0.1, random_state=42, n_splits=1)"
   ]
  },
  {
   "cell_type": "code",
   "execution_count": 75,
   "id": "61e9ed5e",
   "metadata": {},
   "outputs": [],
   "source": [
    "for train_index, test_index in sss.split(t2,tgt):\n",
    "    x_train, x_test = t2[t2.index.isin(train_index)], t2[t2.index.isin(test_index)]\n",
    "    y_train, y_test = t2.loc[t2.index.isin(train_index),\"Intent\"], t2.loc[t2.index.isin(test_index),\"Intent\"]"
   ]
  },
  {
   "cell_type": "code",
   "execution_count": 76,
   "id": "56e5662f",
   "metadata": {},
   "outputs": [
    {
     "data": {
      "text/plain": [
       "(562, 2)"
      ]
     },
     "execution_count": 76,
     "metadata": {},
     "output_type": "execute_result"
    }
   ],
   "source": [
    "x_train.shape"
   ]
  },
  {
   "cell_type": "code",
   "execution_count": 77,
   "id": "4643d375",
   "metadata": {},
   "outputs": [
    {
     "data": {
      "text/plain": [
       "(63, 2)"
      ]
     },
     "execution_count": 77,
     "metadata": {},
     "output_type": "execute_result"
    }
   ],
   "source": [
    "x_test.shape"
   ]
  },
  {
   "cell_type": "code",
   "execution_count": 78,
   "id": "c67cef60",
   "metadata": {},
   "outputs": [],
   "source": [
    "def get_max_len(list1):\n",
    "    '''returns the maximum length of the sentence'''\n",
    "    len_list = [len(i) for i in list1]\n",
    "    return max(len_list)"
   ]
  },
  {
   "cell_type": "code",
   "execution_count": 79,
   "id": "34a481ae",
   "metadata": {},
   "outputs": [],
   "source": [
    "tokenizer = Tokenizer()"
   ]
  },
  {
   "cell_type": "code",
   "execution_count": 91,
   "id": "1a86d948",
   "metadata": {},
   "outputs": [],
   "source": [
    "def conv_str_cols(col_tr,col_te):\n",
    "    tokenizer = Tokenizer(num_words=2000)\n",
    "    tokenizer.fit_on_texts(col_tr)\n",
    "    col_tr1 = tokenizer.texts_to_sequences(col_tr)\n",
    "    col_te1 = tokenizer.texts_to_sequences(col_te)\n",
    "    max_len1 = get_max_len(col_tr1)\n",
    "    col_tr2 = pad_sequences(col_tr1, maxlen=max_len1, dtype='int32',padding='post')\n",
    "    col_te2 = pad_sequences(col_te1, maxlen=max_len1, dtype='int32',padding='post')\n",
    "    \n",
    "    return col_tr2,col_te2,tokenizer,max_len1\n",
    "    "
   ]
  },
  {
   "cell_type": "code",
   "execution_count": 92,
   "id": "5cd9564d",
   "metadata": {},
   "outputs": [],
   "source": [
    "tr_padded,te_padded, tokenizer,max_len1 = conv_str_cols(x_train[\"Description\"], x_test[\"Description\"])"
   ]
  },
  {
   "cell_type": "code",
   "execution_count": 93,
   "id": "3b017637",
   "metadata": {},
   "outputs": [
    {
     "data": {
      "text/plain": [
       "((562, 157), (63, 157))"
      ]
     },
     "execution_count": 93,
     "metadata": {},
     "output_type": "execute_result"
    }
   ],
   "source": [
    "tr_padded.shape,te_padded.shape\n",
    "\n",
    "# 11 is the length of sentence after padding and the former are the number of samples"
   ]
  },
  {
   "cell_type": "code",
   "execution_count": 94,
   "id": "c44a82ee",
   "metadata": {},
   "outputs": [
    {
     "data": {
      "text/plain": [
       "157"
      ]
     },
     "execution_count": 94,
     "metadata": {},
     "output_type": "execute_result"
    }
   ],
   "source": [
    "max_len1"
   ]
  },
  {
   "cell_type": "code",
   "execution_count": 95,
   "id": "8549806b",
   "metadata": {},
   "outputs": [],
   "source": [
    "le = LabelEncoder()\n",
    "\n",
    "y_train1 = le.fit_transform(y_train)\n",
    "y_test1 = le.fit_transform(y_test)\n",
    "y_train2 = to_categorical(y_train1)\n",
    "y_test2 = to_categorical(y_test1)"
   ]
  },
  {
   "cell_type": "code",
   "execution_count": 96,
   "id": "d6234697",
   "metadata": {},
   "outputs": [],
   "source": [
    "classes_num = len(y_train.value_counts())"
   ]
  },
  {
   "cell_type": "code",
   "execution_count": 97,
   "id": "050b2f88",
   "metadata": {},
   "outputs": [
    {
     "data": {
      "text/plain": [
       "4"
      ]
     },
     "execution_count": 97,
     "metadata": {},
     "output_type": "execute_result"
    }
   ],
   "source": [
    "classes_num"
   ]
  },
  {
   "cell_type": "code",
   "execution_count": 98,
   "id": "b80fdf73",
   "metadata": {},
   "outputs": [],
   "source": [
    "## You embed the input layers and pass them to LSTM. The output of LSTM gets fed to a time-distributed dense layer. This layer gets fed into a \n",
    "# fully connected dense layer with classes_num as the number of nodes."
   ]
  },
  {
   "cell_type": "code",
   "execution_count": 99,
   "id": "7f17b725",
   "metadata": {},
   "outputs": [],
   "source": [
    "from keras.models import Sequential\n",
    "from keras.layers import Dense\n",
    "from keras.layers import Flatten\n",
    "from keras.layers.embeddings import Embedding\n",
    "from keras.layers import LSTM,Flatten,TimeDistributed"
   ]
  },
  {
   "cell_type": "code",
   "execution_count": 100,
   "id": "ef6c7900",
   "metadata": {},
   "outputs": [
    {
     "name": "stdout",
     "output_type": "stream",
     "text": [
      "Model: \"sequential_3\"\n",
      "_________________________________________________________________\n",
      " Layer (type)                Output Shape              Param #   \n",
      "=================================================================\n",
      " embedding_3 (Embedding)     (None, 157, 100)          200000    \n",
      "                                                                 \n",
      " lstm_6 (LSTM)               (None, 157, 100)          80400     \n",
      "                                                                 \n",
      " lstm_7 (LSTM)               (None, 157, 50)           30200     \n",
      "                                                                 \n",
      " time_distributed_3 (TimeDis  (None, 157, 50)          2550      \n",
      " tributed)                                                       \n",
      "                                                                 \n",
      " flatten_3 (Flatten)         (None, 7850)              0         \n",
      "                                                                 \n",
      " dense_7 (Dense)             (None, 4)                 31404     \n",
      "                                                                 \n",
      "=================================================================\n",
      "Total params: 344,554\n",
      "Trainable params: 344,554\n",
      "Non-trainable params: 0\n",
      "_________________________________________________________________\n",
      "None\n"
     ]
    }
   ],
   "source": [
    "model = Sequential()\n",
    "model.add(Embedding(2000, 100, input_length=max_len1))\n",
    "model.add(LSTM(100,return_sequences=True))\n",
    "model.add(LSTM(50,return_sequences=True))\n",
    "model.add(TimeDistributed(Dense(50, activation='relu')))\n",
    "model.add(Flatten())\n",
    "model.add(Dense(classes_num, activation='softmax'))\n",
    "# compile the model\n",
    "model.compile(optimizer='adam', loss='categorical_crossentropy',metrics=['accuracy'])\n",
    "# summarize the model\n",
    "print(model.summary())"
   ]
  },
  {
   "cell_type": "code",
   "execution_count": 101,
   "id": "fc99ac91",
   "metadata": {},
   "outputs": [
    {
     "name": "stdout",
     "output_type": "stream",
     "text": [
      "Epoch 1/10\n",
      "19/19 - 4s - loss: 1.1721 - accuracy: 0.4342 - 4s/epoch - 231ms/step\n",
      "Epoch 2/10\n",
      "19/19 - 2s - loss: 1.0750 - accuracy: 0.5018 - 2s/epoch - 108ms/step\n",
      "Epoch 3/10\n",
      "19/19 - 2s - loss: 0.7790 - accuracy: 0.7224 - 2s/epoch - 104ms/step\n",
      "Epoch 4/10\n",
      "19/19 - 2s - loss: 0.4276 - accuracy: 0.8149 - 2s/epoch - 104ms/step\n",
      "Epoch 5/10\n",
      "19/19 - 2s - loss: 0.2462 - accuracy: 0.9110 - 2s/epoch - 107ms/step\n",
      "Epoch 6/10\n",
      "19/19 - 2s - loss: 0.1683 - accuracy: 0.9288 - 2s/epoch - 110ms/step\n",
      "Epoch 7/10\n",
      "19/19 - 2s - loss: 0.1140 - accuracy: 0.9466 - 2s/epoch - 104ms/step\n",
      "Epoch 8/10\n",
      "19/19 - 2s - loss: 0.1145 - accuracy: 0.9644 - 2s/epoch - 105ms/step\n",
      "Epoch 9/10\n",
      "19/19 - 2s - loss: 0.0627 - accuracy: 0.9875 - 2s/epoch - 101ms/step\n",
      "Epoch 10/10\n",
      "19/19 - 2s - loss: 0.0376 - accuracy: 0.9893 - 2s/epoch - 100ms/step\n"
     ]
    },
    {
     "data": {
      "text/plain": [
       "<keras.callbacks.History at 0x7fcd145e1e10>"
      ]
     },
     "execution_count": 101,
     "metadata": {},
     "output_type": "execute_result"
    }
   ],
   "source": [
    "model.fit(tr_padded, y_train2, epochs=10, verbose=2,batch_size=30)"
   ]
  },
  {
   "cell_type": "markdown",
   "id": "28872e38",
   "metadata": {},
   "source": [
    "### Model Prediction and Evaluation"
   ]
  },
  {
   "cell_type": "code",
   "execution_count": 102,
   "id": "9d427f14",
   "metadata": {},
   "outputs": [],
   "source": [
    "# pred_mat = model.predict_classes(te_padded)\n",
    "\n",
    "\n",
    "predict_x=model.predict(te_padded) \n",
    "classes_x=np.argmax(predict_x,axis=1)"
   ]
  },
  {
   "cell_type": "code",
   "execution_count": 103,
   "id": "e7242173",
   "metadata": {},
   "outputs": [
    {
     "name": "stdout",
     "output_type": "stream",
     "text": [
      "0.6666666666666666\n"
     ]
    }
   ],
   "source": [
    "from sklearn.metrics import accuracy_score\n",
    "\n",
    "print (accuracy_score(y_test1, classes_x))"
   ]
  },
  {
   "cell_type": "code",
   "execution_count": 104,
   "id": "acdbbbaf",
   "metadata": {},
   "outputs": [
    {
     "name": "stdout",
     "output_type": "stream",
     "text": [
      "0.6666666666666666\n",
      "0.4818756539937217\n"
     ]
    }
   ],
   "source": [
    "from sklearn.metrics import f1_score\n",
    "\n",
    "print (f1_score(y_test1, classes_x,average='micro'))\n",
    "print (f1_score(y_test1, classes_x,average='macro'))"
   ]
  },
  {
   "cell_type": "code",
   "execution_count": 57,
   "id": "9b0cc501",
   "metadata": {},
   "outputs": [],
   "source": [
    "def pred_new_text(txt1):\n",
    "    print (\"customer_text:\",txt1)\n",
    "    newdf = pd.DataFrame([txt1])\n",
    "    newdf.columns = [\"Description\"]\n",
    "    col_te1 = tokenizer.texts_to_sequences(newdf[\"Description\"])\n",
    "    col_te2 = pad_sequences(col_te1, maxlen=max_len1, dtype='int32',padding='post')\n",
    "#     class_pred = le.inverse_transform(model.predict_classes(col_te2))[0]\n",
    "    predict_x=model.predict(te_padded) \n",
    "    classes_x=le.inverse_transform(np.argmax(predict_x,axis=1))[0]\n",
    "    return classes_x"
   ]
  },
  {
   "cell_type": "code",
   "execution_count": 58,
   "id": "8a4bc9e8",
   "metadata": {},
   "outputs": [
    {
     "name": "stdout",
     "output_type": "stream",
     "text": [
      "customer_text: aja kathmandu ma heavy rainfall vayekoley bato ma road accident vayeko xa\n"
     ]
    },
    {
     "data": {
      "text/plain": [
       "'Surprise'"
      ]
     },
     "execution_count": 58,
     "metadata": {},
     "output_type": "execute_result"
    }
   ],
   "source": [
    "pred_new_text('aja kathmandu ma heavy rainfall vayekoley bato ma road accident vayeko xa')"
   ]
  },
  {
   "cell_type": "code",
   "execution_count": null,
   "id": "8b450f30",
   "metadata": {},
   "outputs": [],
   "source": []
  }
 ],
 "metadata": {
  "kernelspec": {
   "display_name": "Python 3",
   "language": "python",
   "name": "python3"
  },
  "language_info": {
   "codemirror_mode": {
    "name": "ipython",
    "version": 3
   },
   "file_extension": ".py",
   "mimetype": "text/x-python",
   "name": "python",
   "nbconvert_exporter": "python",
   "pygments_lexer": "ipython3",
   "version": "3.7.10"
  }
 },
 "nbformat": 4,
 "nbformat_minor": 5
}
