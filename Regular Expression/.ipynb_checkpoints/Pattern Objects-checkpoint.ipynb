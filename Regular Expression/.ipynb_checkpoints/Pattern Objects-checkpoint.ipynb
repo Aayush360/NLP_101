{
 "cells": [
  {
   "cell_type": "markdown",
   "id": "7f699635",
   "metadata": {},
   "source": [
    "### PATTERN OBJECTS"
   ]
  },
  {
   "cell_type": "code",
   "execution_count": 1,
   "id": "6ac26758",
   "metadata": {},
   "outputs": [],
   "source": [
    "import re"
   ]
  },
  {
   "cell_type": "code",
   "execution_count": 2,
   "id": "b3c3f669",
   "metadata": {},
   "outputs": [],
   "source": [
    "p = re.compile('a\\d*b', re.IGNORECASE)"
   ]
  },
  {
   "cell_type": "code",
   "execution_count": 3,
   "id": "6f8501dd",
   "metadata": {},
   "outputs": [
    {
     "data": {
      "text/plain": [
       "['a21312B', 'AB']"
      ]
     },
     "execution_count": 3,
     "metadata": {},
     "output_type": "execute_result"
    }
   ],
   "source": [
    "p.findall('a123asda21312Basdas213ABs')"
   ]
  },
  {
   "cell_type": "code",
   "execution_count": 4,
   "id": "4aeb15ff",
   "metadata": {},
   "outputs": [],
   "source": [
    "# given a document, count the number of space character at the beginning of the document"
   ]
  },
  {
   "cell_type": "code",
   "execution_count": 5,
   "id": "5a7f3c39",
   "metadata": {},
   "outputs": [],
   "source": [
    "doc = '   \\t    \\t  \\t    \\thow are you today.asdfa'"
   ]
  },
  {
   "cell_type": "code",
   "execution_count": 6,
   "id": "c23c774c",
   "metadata": {},
   "outputs": [],
   "source": [
    "p = re.compile('\\s+')"
   ]
  },
  {
   "cell_type": "code",
   "execution_count": 7,
   "id": "3bc9f92f",
   "metadata": {},
   "outputs": [
    {
     "data": {
      "text/plain": [
       "re.Pattern"
      ]
     },
     "execution_count": 7,
     "metadata": {},
     "output_type": "execute_result"
    }
   ],
   "source": [
    "type(p)"
   ]
  },
  {
   "cell_type": "code",
   "execution_count": 8,
   "id": "dc5c3ef5",
   "metadata": {},
   "outputs": [],
   "source": [
    "m=p.match(doc)"
   ]
  },
  {
   "cell_type": "code",
   "execution_count": 9,
   "id": "6989e03e",
   "metadata": {},
   "outputs": [
    {
     "name": "stdout",
     "output_type": "stream",
     "text": [
      "index span of the match is:  (0, 17)\n"
     ]
    }
   ],
   "source": [
    "print('index span of the match is: ',m.span())"
   ]
  },
  {
   "cell_type": "code",
   "execution_count": 10,
   "id": "985a7c02",
   "metadata": {},
   "outputs": [
    {
     "name": "stdout",
     "output_type": "stream",
     "text": [
      "start of the match is:  0\n"
     ]
    }
   ],
   "source": [
    "print('start of the match is: ',m.start())"
   ]
  },
  {
   "cell_type": "code",
   "execution_count": 11,
   "id": "8a0c7893",
   "metadata": {},
   "outputs": [
    {
     "name": "stdout",
     "output_type": "stream",
     "text": [
      "end of the match is: 17\n"
     ]
    }
   ],
   "source": [
    "print('end of the match is:', m.end())"
   ]
  },
  {
   "cell_type": "code",
   "execution_count": 12,
   "id": "d18bd75d",
   "metadata": {},
   "outputs": [
    {
     "name": "stdout",
     "output_type": "stream",
     "text": [
      "length of the match is:  17\n"
     ]
    }
   ],
   "source": [
    "print('length of the match is: ',len( m.group()))"
   ]
  },
  {
   "cell_type": "code",
   "execution_count": 13,
   "id": "47ca258e",
   "metadata": {},
   "outputs": [],
   "source": [
    "# string after the matched string"
   ]
  },
  {
   "cell_type": "code",
   "execution_count": 14,
   "id": "2de21f3f",
   "metadata": {},
   "outputs": [
    {
     "name": "stdout",
     "output_type": "stream",
     "text": [
      "how are you today.asdfa\n"
     ]
    }
   ],
   "source": [
    "print(doc[m.end():])"
   ]
  },
  {
   "cell_type": "code",
   "execution_count": 15,
   "id": "0b8f4949",
   "metadata": {},
   "outputs": [],
   "source": [
    "# string/pattern that is matched"
   ]
  },
  {
   "cell_type": "code",
   "execution_count": 16,
   "id": "19927f13",
   "metadata": {},
   "outputs": [
    {
     "data": {
      "text/plain": [
       "'   \\t    \\t  \\t    \\t'"
      ]
     },
     "execution_count": 16,
     "metadata": {},
     "output_type": "execute_result"
    }
   ],
   "source": [
    "m.group()"
   ]
  },
  {
   "cell_type": "code",
   "execution_count": 17,
   "id": "d2a664e3",
   "metadata": {},
   "outputs": [],
   "source": [
    "doc = 'a \\t    \\t  \\t    \\thow are you today.asdfa'\n",
    "p = re.compile('\\s+')\n",
    "m=p.match(doc)"
   ]
  },
  {
   "cell_type": "code",
   "execution_count": 18,
   "id": "c1dd05b5",
   "metadata": {},
   "outputs": [],
   "source": [
    "# print('index span of the match is: ',m.span())\n",
    "# print('start of the match is: ',m.start())\n",
    "# print('end of the match is:', m.end())\n",
    "# print('length of the match is: ',len( m.group()))"
   ]
  },
  {
   "cell_type": "code",
   "execution_count": 19,
   "id": "8bb08d7b",
   "metadata": {},
   "outputs": [
    {
     "data": {
      "text/plain": [
       "NoneType"
      ]
     },
     "execution_count": 19,
     "metadata": {},
     "output_type": "execute_result"
    }
   ],
   "source": [
    "type(m) # since there is no match"
   ]
  },
  {
   "cell_type": "code",
   "execution_count": 20,
   "id": "d2006a30",
   "metadata": {},
   "outputs": [],
   "source": [
    "doc = 'a \\t    \\t  \\t    \\thow are you today.asdfa'\n",
    "p = re.compile('\\s+')\n",
    "m=p.search(doc)"
   ]
  },
  {
   "cell_type": "code",
   "execution_count": 21,
   "id": "02b2745e",
   "metadata": {},
   "outputs": [
    {
     "data": {
      "text/plain": [
       "<re.Match object; span=(1, 16), match=' \\t    \\t  \\t    \\t'>"
      ]
     },
     "execution_count": 21,
     "metadata": {},
     "output_type": "execute_result"
    }
   ],
   "source": [
    "m"
   ]
  },
  {
   "cell_type": "code",
   "execution_count": 22,
   "id": "a23d2b2f",
   "metadata": {},
   "outputs": [
    {
     "data": {
      "text/plain": [
       "' \\t    \\t  \\t    \\t'"
      ]
     },
     "execution_count": 22,
     "metadata": {},
     "output_type": "execute_result"
    }
   ],
   "source": [
    "m.group()"
   ]
  },
  {
   "cell_type": "code",
   "execution_count": 23,
   "id": "e58de9b9",
   "metadata": {},
   "outputs": [
    {
     "data": {
      "text/plain": [
       "1"
      ]
     },
     "execution_count": 23,
     "metadata": {},
     "output_type": "execute_result"
    }
   ],
   "source": [
    "m.start()"
   ]
  },
  {
   "cell_type": "code",
   "execution_count": 24,
   "id": "9672cb68",
   "metadata": {},
   "outputs": [
    {
     "data": {
      "text/plain": [
       "16"
      ]
     },
     "execution_count": 24,
     "metadata": {},
     "output_type": "execute_result"
    }
   ],
   "source": [
    "m.end()"
   ]
  },
  {
   "cell_type": "code",
   "execution_count": 25,
   "id": "fca90522",
   "metadata": {},
   "outputs": [],
   "source": [
    "doc = 'a \\t    \\t  \\t    \\thow are you today.asdfa'\n",
    "p = re.compile('\\s*')\n",
    "m=p.match(doc)"
   ]
  },
  {
   "cell_type": "code",
   "execution_count": 26,
   "id": "9a2b8c0e",
   "metadata": {},
   "outputs": [
    {
     "data": {
      "text/plain": [
       "<re.Match object; span=(0, 0), match=''>"
      ]
     },
     "execution_count": 26,
     "metadata": {},
     "output_type": "execute_result"
    }
   ],
   "source": [
    "m"
   ]
  },
  {
   "cell_type": "code",
   "execution_count": 27,
   "id": "33e4afb2",
   "metadata": {},
   "outputs": [],
   "source": [
    "# matches the single space in the document, anywhere in the string \n",
    "doc = 'a \\t    \\t  \\t    \\thow are you today.asdfa'\n",
    "p = re.compile('\\s')\n",
    "m=p.search(doc)"
   ]
  },
  {
   "cell_type": "code",
   "execution_count": 28,
   "id": "4af49a33",
   "metadata": {},
   "outputs": [
    {
     "data": {
      "text/plain": [
       "<re.Match object; span=(1, 2), match=' '>"
      ]
     },
     "execution_count": 28,
     "metadata": {},
     "output_type": "execute_result"
    }
   ],
   "source": [
    "m"
   ]
  },
  {
   "cell_type": "code",
   "execution_count": 29,
   "id": "c085e5ad",
   "metadata": {},
   "outputs": [],
   "source": [
    "# findall although returns all the matches it does not return information about the matches"
   ]
  },
  {
   "cell_type": "markdown",
   "id": "4dd102ba",
   "metadata": {},
   "source": [
    "### findIter method"
   ]
  },
  {
   "cell_type": "code",
   "execution_count": 30,
   "id": "69f6ef99",
   "metadata": {},
   "outputs": [],
   "source": [
    "# find where the valid variable names in the document exist\n",
    "# along with this, we also want to find its location (start and end) along with its length"
   ]
  },
  {
   "cell_type": "code",
   "execution_count": 31,
   "id": "054e9b60",
   "metadata": {},
   "outputs": [],
   "source": [
    "doc = 'asfas_asf:?\"23easd21231!@#!3213'\n",
    "p = re.compile('[a-zA-Z_]\\w*')\n",
    "iterator = p.finditer(doc)"
   ]
  },
  {
   "cell_type": "code",
   "execution_count": 32,
   "id": "ed2b9fd6",
   "metadata": {},
   "outputs": [
    {
     "name": "stdout",
     "output_type": "stream",
     "text": [
      "<re.Match object; span=(0, 9), match='asfas_asf'>\n",
      "(0, 9) asfas_asf\n",
      "<re.Match object; span=(14, 23), match='easd21231'>\n",
      "(14, 23) easd21231\n"
     ]
    }
   ],
   "source": [
    "for i in iterator:\n",
    "    print(i)\n",
    "    print(i.span(),i.group())    "
   ]
  },
  {
   "cell_type": "code",
   "execution_count": 33,
   "id": "ac59c8a3",
   "metadata": {},
   "outputs": [],
   "source": [
    "doc = 'asfas_asf:?\"23easd21231!@#!3213'\n",
    "p = re.compile('[a-z_]\\w*', re.IGNORECASE)\n",
    "iterator = p.finditer(doc)"
   ]
  },
  {
   "cell_type": "code",
   "execution_count": 34,
   "id": "8660f11c",
   "metadata": {},
   "outputs": [
    {
     "name": "stdout",
     "output_type": "stream",
     "text": [
      "<re.Match object; span=(0, 9), match='asfas_asf'>\n",
      "(0, 9) asfas_asf\n",
      "<re.Match object; span=(14, 23), match='easd21231'>\n",
      "(14, 23) easd21231\n"
     ]
    }
   ],
   "source": [
    "for i in iterator:\n",
    "    print(i)\n",
    "    print(i.span(),i.group())"
   ]
  },
  {
   "cell_type": "markdown",
   "id": "2ae6822d",
   "metadata": {},
   "source": [
    "## using | (Logical OR) to join R.E"
   ]
  },
  {
   "cell_type": "code",
   "execution_count": 35,
   "id": "b649b174",
   "metadata": {},
   "outputs": [
    {
     "name": "stdout",
     "output_type": "stream",
     "text": [
      "11\n"
     ]
    }
   ],
   "source": [
    "# to count number of backslashes and brackets in the string\n",
    "\n",
    "doc = r'\\n for new line [line ] \\section and \\\\document and \\\\\\\\section \\n'\n",
    "regExp1 = '[\\]\\[]'\n",
    "regExp2 = '[\\\\\\]'\n",
    "\n",
    "p = re.compile(regExp1+'|'+regExp2)\n",
    "print(len(p.findall(doc)))"
   ]
  },
  {
   "cell_type": "code",
   "execution_count": 36,
   "id": "548c4768",
   "metadata": {},
   "outputs": [
    {
     "data": {
      "text/plain": [
       "['\\\\', '[', ']', '\\\\', '\\\\', '\\\\', '\\\\', '\\\\', '\\\\', '\\\\', '\\\\']"
      ]
     },
     "execution_count": 36,
     "metadata": {},
     "output_type": "execute_result"
    }
   ],
   "source": [
    "p.findall(doc)"
   ]
  },
  {
   "cell_type": "markdown",
   "id": "b1d87f69",
   "metadata": {},
   "source": [
    "### ^ (Matching for the Beginning)"
   ]
  },
  {
   "cell_type": "code",
   "execution_count": 37,
   "id": "d2d594a8",
   "metadata": {},
   "outputs": [],
   "source": [
    "# if ^ is not used inside the class [], it can be used to find the if present at beginning of the string"
   ]
  },
  {
   "cell_type": "code",
   "execution_count": 38,
   "id": "c68bb7ab",
   "metadata": {},
   "outputs": [
    {
     "data": {
      "text/plain": [
       "<re.Match object; span=(0, 5), match='Hello'>"
      ]
     },
     "execution_count": 38,
     "metadata": {},
     "output_type": "execute_result"
    }
   ],
   "source": [
    "re.search('^Hello','Hello from the other side!!')"
   ]
  },
  {
   "cell_type": "code",
   "execution_count": 39,
   "id": "7f5b84b3",
   "metadata": {},
   "outputs": [],
   "source": [
    "re.search('^Hello','He said, Hello from the other side!!')"
   ]
  },
  {
   "cell_type": "code",
   "execution_count": 40,
   "id": "95fd3a2b",
   "metadata": {},
   "outputs": [
    {
     "data": {
      "text/plain": [
       "<re.Match object; span=(0, 5), match='Hello'>"
      ]
     },
     "execution_count": 40,
     "metadata": {},
     "output_type": "execute_result"
    }
   ],
   "source": [
    "re.match('Hello','Hello from the other side')"
   ]
  },
  {
   "cell_type": "code",
   "execution_count": 41,
   "id": "f8e0aa95",
   "metadata": {},
   "outputs": [
    {
     "data": {
      "text/plain": [
       "<re.Match object; span=(0, 5), match='Hello'>"
      ]
     },
     "execution_count": 41,
     "metadata": {},
     "output_type": "execute_result"
    }
   ],
   "source": [
    "re.search('Hello','Hello from the other side')"
   ]
  },
  {
   "cell_type": "markdown",
   "id": "a1bf6238",
   "metadata": {},
   "source": [
    "### $ (Matching for end of the line)"
   ]
  },
  {
   "cell_type": "code",
   "execution_count": 42,
   "id": "d2d15666",
   "metadata": {},
   "outputs": [],
   "source": [
    "# matches at the end of a line, which is defined as either the end of the string or any location followed by a new\n",
    "# line character"
   ]
  },
  {
   "cell_type": "code",
   "execution_count": 43,
   "id": "a9f0102b",
   "metadata": {},
   "outputs": [
    {
     "data": {
      "text/plain": [
       "<re.Match object; span=(5, 6), match='}'>"
      ]
     },
     "execution_count": 43,
     "metadata": {},
     "output_type": "execute_result"
    }
   ],
   "source": [
    "re.search('}$','hello}')"
   ]
  },
  {
   "cell_type": "code",
   "execution_count": 44,
   "id": "aaf2c7c5",
   "metadata": {},
   "outputs": [],
   "source": [
    "# returns None because } is not the end of the string\n",
    "re.search('}$','hello} ')"
   ]
  },
  {
   "cell_type": "code",
   "execution_count": 45,
   "id": "487c38b5",
   "metadata": {},
   "outputs": [
    {
     "data": {
      "text/plain": [
       "<re.Match object; span=(5, 6), match='}'>"
      ]
     },
     "execution_count": 45,
     "metadata": {},
     "output_type": "execute_result"
    }
   ],
   "source": [
    "re.search('}$','hello}\\n')"
   ]
  },
  {
   "cell_type": "markdown",
   "id": "01bb9725",
   "metadata": {},
   "source": [
    "### () (Matching group of characters)"
   ]
  },
  {
   "cell_type": "code",
   "execution_count": 46,
   "id": "fe1e11ee",
   "metadata": {},
   "outputs": [],
   "source": [
    "# makes a group of character to be treated just like a single character"
   ]
  },
  {
   "cell_type": "code",
   "execution_count": 47,
   "id": "8604cd3e",
   "metadata": {},
   "outputs": [],
   "source": [
    "doc = 'find in thethethehellothe '"
   ]
  },
  {
   "cell_type": "code",
   "execution_count": 48,
   "id": "a571e57d",
   "metadata": {},
   "outputs": [],
   "source": [
    "p = re.compile('(the)+') # search for appearance of the one or more times in the string\n",
    "m = p.search(doc)"
   ]
  },
  {
   "cell_type": "code",
   "execution_count": 49,
   "id": "f8e75daa",
   "metadata": {},
   "outputs": [
    {
     "data": {
      "text/plain": [
       "(8, 17)"
      ]
     },
     "execution_count": 49,
     "metadata": {},
     "output_type": "execute_result"
    }
   ],
   "source": [
    "m.span()"
   ]
  },
  {
   "cell_type": "code",
   "execution_count": 50,
   "id": "9ee36972",
   "metadata": {},
   "outputs": [
    {
     "data": {
      "text/plain": [
       "'thethethe'"
      ]
     },
     "execution_count": 50,
     "metadata": {},
     "output_type": "execute_result"
    }
   ],
   "source": [
    "m.group()"
   ]
  },
  {
   "cell_type": "code",
   "execution_count": 51,
   "id": "80f5ffdd",
   "metadata": {},
   "outputs": [],
   "source": [
    "doc = 'i am learning NLP today'"
   ]
  },
  {
   "cell_type": "code",
   "execution_count": 52,
   "id": "ce539d63",
   "metadata": {},
   "outputs": [],
   "source": [
    "p = re.compile('(the)*') # making a pattern object to find 0 or more occurence of the word the\n",
    "m = p.search(doc)"
   ]
  },
  {
   "cell_type": "code",
   "execution_count": 53,
   "id": "4dc89b24",
   "metadata": {},
   "outputs": [
    {
     "data": {
      "text/plain": [
       "(0, 0)"
      ]
     },
     "execution_count": 53,
     "metadata": {},
     "output_type": "execute_result"
    }
   ],
   "source": [
    "m.span()"
   ]
  },
  {
   "cell_type": "code",
   "execution_count": 54,
   "id": "2f070f72",
   "metadata": {},
   "outputs": [
    {
     "data": {
      "text/plain": [
       "''"
      ]
     },
     "execution_count": 54,
     "metadata": {},
     "output_type": "execute_result"
    }
   ],
   "source": [
    "m.group()"
   ]
  },
  {
   "cell_type": "code",
   "execution_count": 55,
   "id": "4e7a2833",
   "metadata": {},
   "outputs": [],
   "source": [
    "doc = 'find in thethethehellothe '\n",
    "p = re.compile('(the)+') # search for appearance of the one or more times in the string\n",
    "iterator = p.finditer(doc)"
   ]
  },
  {
   "cell_type": "code",
   "execution_count": 56,
   "id": "bc69375e",
   "metadata": {},
   "outputs": [
    {
     "name": "stdout",
     "output_type": "stream",
     "text": [
      "(8, 17) thethethe\n",
      "(22, 25) the\n"
     ]
    }
   ],
   "source": [
    "for i in iterator:\n",
    "    print(i.span(), i.group())"
   ]
  },
  {
   "cell_type": "markdown",
   "id": "6770852a",
   "metadata": {},
   "source": [
    "### Word Tokenizer- using split() method"
   ]
  },
  {
   "cell_type": "code",
   "execution_count": 57,
   "id": "38e8c9d4",
   "metadata": {},
   "outputs": [],
   "source": [
    "## extracting words from the documents using split() method by splitting on one or more\n",
    "# occurence of non-alphanumeric characters"
   ]
  },
  {
   "cell_type": "code",
   "execution_count": 58,
   "id": "52ed1bf9",
   "metadata": {},
   "outputs": [
    {
     "data": {
      "text/plain": [
       "['this',\n",
       " 'is',\n",
       " 'crazy1010__',\n",
       " 'i',\n",
       " 'canno',\n",
       " 't',\n",
       " 'believe',\n",
       " 'myadf234',\n",
       " 'asdf',\n",
       " 'a',\n",
       " 'as',\n",
       " 's']"
      ]
     },
     "execution_count": 58,
     "metadata": {},
     "output_type": "execute_result"
    }
   ],
   "source": [
    "p = re.compile('\\W+')\n",
    "p.split('this is ,, crazy1010__ ;; i \\' canno\\'t believe myadf234 asdf..,a.as/s')"
   ]
  },
  {
   "cell_type": "code",
   "execution_count": 59,
   "id": "0976e1c3",
   "metadata": {},
   "outputs": [
    {
     "data": {
      "text/plain": [
       "['this',\n",
       " 'is',\n",
       " '',\n",
       " '',\n",
       " '',\n",
       " 'crazy1010__',\n",
       " '',\n",
       " '',\n",
       " '',\n",
       " 'i',\n",
       " '',\n",
       " '',\n",
       " 'canno',\n",
       " 't',\n",
       " 'believe',\n",
       " 'myadf234',\n",
       " 'asdf',\n",
       " '',\n",
       " '',\n",
       " 'a',\n",
       " 'as',\n",
       " 's']"
      ]
     },
     "execution_count": 59,
     "metadata": {},
     "output_type": "execute_result"
    }
   ],
   "source": [
    "p = re.compile('\\W')\n",
    "p.split('this is ,, crazy1010__ ;; i \\' canno\\'t believe myadf234 asdf..,a.as/s')"
   ]
  },
  {
   "cell_type": "markdown",
   "id": "f1f32640",
   "metadata": {},
   "source": [
    "### sub() method for string substitution"
   ]
  },
  {
   "cell_type": "code",
   "execution_count": 60,
   "id": "c5ca7ebb",
   "metadata": {},
   "outputs": [
    {
     "data": {
      "text/plain": [
       "'color shoes and color socks'"
      ]
     },
     "execution_count": 60,
     "metadata": {},
     "output_type": "execute_result"
    }
   ],
   "source": [
    "p = re.compile('(red\\s|white\\s|blue\\s)+')\n",
    "p.sub('color ','red shoes and red red white white socks')"
   ]
  },
  {
   "cell_type": "code",
   "execution_count": 61,
   "id": "fd52079d",
   "metadata": {},
   "outputs": [
    {
     "data": {
      "text/plain": [
       "('color shoes and color socks', 2)"
      ]
     },
     "execution_count": 61,
     "metadata": {},
     "output_type": "execute_result"
    }
   ],
   "source": [
    "# subn() returns the string and the number of match\n",
    "\n",
    "p = re.compile('(red\\s|white\\s|blue\\s)+', re.IGNORECASE)\n",
    "p.subn('color ','rED shoes and rEd Red White wHite socks')"
   ]
  },
  {
   "cell_type": "code",
   "execution_count": 62,
   "id": "cd107cf0",
   "metadata": {},
   "outputs": [],
   "source": [
    "# EXERCISE: In a document replace multiple consecutive whitespaces into a single one and remove white spaces at the beginning\n",
    "# and at the end of the document"
   ]
  },
  {
   "cell_type": "code",
   "execution_count": 63,
   "id": "d20eef03",
   "metadata": {},
   "outputs": [],
   "source": [
    "doc = '  chasing   cars  on our heads     if i lay here   if    i just   lay here        '"
   ]
  },
  {
   "cell_type": "code",
   "execution_count": 64,
   "id": "4a7bac37",
   "metadata": {},
   "outputs": [],
   "source": [
    "p1=re.compile('(\\s)+')"
   ]
  },
  {
   "cell_type": "code",
   "execution_count": 65,
   "id": "9dea71ff",
   "metadata": {},
   "outputs": [],
   "source": [
    "doc1=p1.sub(' ',doc)"
   ]
  },
  {
   "cell_type": "code",
   "execution_count": 66,
   "id": "330a9e4a",
   "metadata": {},
   "outputs": [
    {
     "data": {
      "text/plain": [
       "'chasing cars on our heads if i lay here if i just lay here'"
      ]
     },
     "execution_count": 66,
     "metadata": {},
     "output_type": "execute_result"
    }
   ],
   "source": [
    "p2 = re.compile('^[\\s]*'+'|'+'[\\s]*$')\n",
    "p2.sub('',doc1)"
   ]
  },
  {
   "cell_type": "code",
   "execution_count": 67,
   "id": "0965a650",
   "metadata": {},
   "outputs": [],
   "source": [
    "# achieving the same using less no of code"
   ]
  },
  {
   "cell_type": "code",
   "execution_count": 68,
   "id": "99add090",
   "metadata": {},
   "outputs": [],
   "source": [
    "# first compile p1 and p2 and use sub() method directly"
   ]
  },
  {
   "cell_type": "code",
   "execution_count": 69,
   "id": "47d35501",
   "metadata": {},
   "outputs": [
    {
     "data": {
      "text/plain": [
       "'chasing cars on our heads if i lay here if i just lay here'"
      ]
     },
     "execution_count": 69,
     "metadata": {},
     "output_type": "execute_result"
    }
   ],
   "source": [
    "# p2 can also be written as \n",
    "\n",
    "p2 = re.compile('^ | $')\n",
    "\n",
    "p2.sub('',p1.sub(' ', doc))"
   ]
  },
  {
   "cell_type": "markdown",
   "id": "9c2f0e3d",
   "metadata": {},
   "source": [
    "## spaCy for Tokenization"
   ]
  },
  {
   "cell_type": "code",
   "execution_count": 73,
   "id": "200aa8e3",
   "metadata": {},
   "outputs": [],
   "source": [
    "import spacy"
   ]
  },
  {
   "cell_type": "code",
   "execution_count": 77,
   "id": "efe7bc39",
   "metadata": {},
   "outputs": [],
   "source": [
    "nlp = spacy.load('en_core_web_sm')"
   ]
  },
  {
   "cell_type": "code",
   "execution_count": 82,
   "id": "b762a3c9",
   "metadata": {},
   "outputs": [],
   "source": [
    "doc = 'I always uh do the main um processing, I mean, the uh um data-processing.'"
   ]
  },
  {
   "cell_type": "code",
   "execution_count": 83,
   "id": "4220d01f",
   "metadata": {},
   "outputs": [],
   "source": [
    "stats = nlp(doc)"
   ]
  },
  {
   "cell_type": "code",
   "execution_count": 84,
   "id": "5caaebfc",
   "metadata": {},
   "outputs": [
    {
     "name": "stdout",
     "output_type": "stream",
     "text": [
      "I\n",
      "always\n",
      "uh\n",
      "do\n",
      "the\n",
      "main\n",
      "um\n",
      "processing\n",
      ",\n",
      "I\n",
      "mean\n",
      ",\n",
      "the\n",
      "uh\n",
      "um\n",
      "data\n",
      "-\n",
      "processing\n",
      ".\n"
     ]
    }
   ],
   "source": [
    "for token in stats:\n",
    "    print(token.text)"
   ]
  },
  {
   "cell_type": "code",
   "execution_count": 85,
   "id": "bcce465c",
   "metadata": {},
   "outputs": [],
   "source": [
    "doc2 = 'U.K is my favorite country'"
   ]
  },
  {
   "cell_type": "code",
   "execution_count": 86,
   "id": "4bd008c8",
   "metadata": {},
   "outputs": [],
   "source": [
    "stats = nlp(doc2)"
   ]
  },
  {
   "cell_type": "code",
   "execution_count": 88,
   "id": "0b0eef04",
   "metadata": {},
   "outputs": [
    {
     "name": "stdout",
     "output_type": "stream",
     "text": [
      "U.K\n",
      "is\n",
      "my\n",
      "favorite\n",
      "country\n"
     ]
    }
   ],
   "source": [
    "for token in stats:\n",
    "    print(token.text)"
   ]
  },
  {
   "cell_type": "code",
   "execution_count": 89,
   "id": "c9712a22",
   "metadata": {},
   "outputs": [
    {
     "name": "stdout",
     "output_type": "stream",
     "text": [
      "['I', 'always', 'uh', 'do', 'the', 'main', 'um', 'processing', 'I', 'mean', 'the', 'uh', 'um', 'data', 'processing', '']\n"
     ]
    }
   ],
   "source": [
    "print(re.split('\\W+',doc))"
   ]
  },
  {
   "cell_type": "code",
   "execution_count": 93,
   "id": "252b1872",
   "metadata": {},
   "outputs": [
    {
     "name": "stdout",
     "output_type": "stream",
     "text": [
      "I\n",
      "always\n",
      "uh\n",
      "do\n",
      "the\n",
      "main\n",
      "um\n",
      "processing\n",
      "I\n",
      "mean\n",
      "the\n",
      "uh\n",
      "um\n",
      "data\n",
      "processing\n",
      "\n"
     ]
    }
   ],
   "source": [
    "for token in re.split('\\W+',doc):\n",
    "    print(token)"
   ]
  },
  {
   "cell_type": "code",
   "execution_count": 92,
   "id": "626e8498",
   "metadata": {},
   "outputs": [
    {
     "name": "stdout",
     "output_type": "stream",
     "text": [
      "I\n",
      "always\n",
      "uh\n",
      "do\n",
      "the\n",
      "main\n",
      "um\n",
      "processing,\n",
      "I\n",
      "mean,\n",
      "the\n",
      "uh\n",
      "um\n",
      "data-processing.\n"
     ]
    }
   ],
   "source": [
    "for token in re.split('\\s+',doc):\n",
    "    print(token)"
   ]
  },
  {
   "cell_type": "code",
   "execution_count": 95,
   "id": "df00fad1",
   "metadata": {},
   "outputs": [
    {
     "name": "stdout",
     "output_type": "stream",
     "text": [
      "U.K\n",
      "is\n",
      "my\n",
      "favorite\n",
      "country\n"
     ]
    }
   ],
   "source": [
    "for token in re.split('\\s+',doc2):\n",
    "    print(token)"
   ]
  },
  {
   "cell_type": "code",
   "execution_count": null,
   "id": "82269eb8",
   "metadata": {},
   "outputs": [],
   "source": []
  }
 ],
 "metadata": {
  "kernelspec": {
   "display_name": "Python 3",
   "language": "python",
   "name": "python3"
  },
  "language_info": {
   "codemirror_mode": {
    "name": "ipython",
    "version": 3
   },
   "file_extension": ".py",
   "mimetype": "text/x-python",
   "name": "python",
   "nbconvert_exporter": "python",
   "pygments_lexer": "ipython3",
   "version": "3.7.10"
  }
 },
 "nbformat": 4,
 "nbformat_minor": 5
}
