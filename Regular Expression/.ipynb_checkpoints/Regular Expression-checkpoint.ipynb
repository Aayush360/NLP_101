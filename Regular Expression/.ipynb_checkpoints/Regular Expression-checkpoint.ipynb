{
 "cells": [
  {
   "cell_type": "code",
   "execution_count": 1,
   "id": "0b8eeb70",
   "metadata": {},
   "outputs": [],
   "source": [
    "import re"
   ]
  },
  {
   "cell_type": "code",
   "execution_count": 2,
   "id": "5f53a625",
   "metadata": {},
   "outputs": [
    {
     "data": {
      "text/plain": [
       "['a', 'a', 'x', 'a', 'a', 'a', 'x', 'a', 'a']"
      ]
     },
     "execution_count": 2,
     "metadata": {},
     "output_type": "execute_result"
    }
   ],
   "source": [
    "re.findall('[abx]','sadfasvxaiohdaoasfdxasfas')"
   ]
  },
  {
   "cell_type": "code",
   "execution_count": 3,
   "id": "5454b3e1",
   "metadata": {},
   "outputs": [
    {
     "data": {
      "text/plain": [
       "['a', 'a', 'a', 'd', 'a', 'a', 'b', 'c', 'd', 'd', 'a', 'd', 'a', 'd']"
      ]
     },
     "execution_count": 3,
     "metadata": {},
     "output_type": "execute_result"
    }
   ],
   "source": [
    "re.findall('[a-d]','assasafdaabcddfadsfasd')"
   ]
  },
  {
   "cell_type": "code",
   "execution_count": 4,
   "id": "141248fd",
   "metadata": {},
   "outputs": [],
   "source": [
    "## there are 11 meta characters "
   ]
  },
  {
   "cell_type": "code",
   "execution_count": 5,
   "id": "e556c80f",
   "metadata": {},
   "outputs": [],
   "source": [
    "# count the number of digits in the string"
   ]
  },
  {
   "cell_type": "code",
   "execution_count": 6,
   "id": "a000bdf9",
   "metadata": {},
   "outputs": [
    {
     "data": {
      "text/plain": [
       "['0', '9', '1', '8', '2', '0', '3', '3', '1']"
      ]
     },
     "execution_count": 6,
     "metadata": {},
     "output_type": "execute_result"
    }
   ],
   "source": [
    "re.findall('[0-9]','asdfoiasi0918203jslajslkd!@31$')"
   ]
  },
  {
   "cell_type": "code",
   "execution_count": 7,
   "id": "dadee9cf",
   "metadata": {},
   "outputs": [
    {
     "data": {
      "text/plain": [
       "9"
      ]
     },
     "execution_count": 7,
     "metadata": {},
     "output_type": "execute_result"
    }
   ],
   "source": [
    "len(re.findall('[0-9]','asdfoiasi0918203jslajslkd!@31$'))"
   ]
  },
  {
   "cell_type": "code",
   "execution_count": 8,
   "id": "9a7e8cfb",
   "metadata": {},
   "outputs": [],
   "source": [
    "#check if text contains any number with consecutive 4 digits"
   ]
  },
  {
   "cell_type": "code",
   "execution_count": 9,
   "id": "adfe1769",
   "metadata": {},
   "outputs": [
    {
     "data": {
      "text/plain": [
       "['0918']"
      ]
     },
     "execution_count": 9,
     "metadata": {},
     "output_type": "execute_result"
    }
   ],
   "source": [
    "re.findall('[0-9]{4}','asdfoiasi0918203jslajslkd!@31$')"
   ]
  },
  {
   "cell_type": "code",
   "execution_count": 10,
   "id": "36a83575",
   "metadata": {},
   "outputs": [
    {
     "data": {
      "text/plain": [
       "['0918', '2031']"
      ]
     },
     "execution_count": 10,
     "metadata": {},
     "output_type": "execute_result"
    }
   ],
   "source": [
    "re.findall('[0-9]{4}','asdfoiasi0918203121jslajslkd!@31$')"
   ]
  },
  {
   "cell_type": "code",
   "execution_count": 11,
   "id": "449922bb",
   "metadata": {},
   "outputs": [
    {
     "name": "stdout",
     "output_type": "stream",
     "text": [
      "found\n"
     ]
    }
   ],
   "source": [
    "\n",
    "if len(re.findall('[0-9][0-9][0-9][0-9]','asdfoiasi0918203121jslajslkd!@31$'))>0:\n",
    "    print('found')\n",
    "else:\n",
    "    print('not found')"
   ]
  },
  {
   "cell_type": "code",
   "execution_count": 12,
   "id": "98c95a6e",
   "metadata": {},
   "outputs": [],
   "source": [
    "# list the document that does not contain any digit or any of the following character \n",
    "# {:,\",(,),@,#,&,{,}}"
   ]
  },
  {
   "cell_type": "code",
   "execution_count": 13,
   "id": "cce513c6",
   "metadata": {},
   "outputs": [],
   "source": [
    "documents = ['asfa2091823hkjashkjca;djfhq9','askjfhask28937241kljasdfa.,adsfjky3{}qwq',\n",
    "            'asdkhfi2u09jdowajdf.,a;','waeduiqwhdbcxiuash2873492188721h][','sdkjfhasdhfiaus']"
   ]
  },
  {
   "cell_type": "code",
   "execution_count": 14,
   "id": "91b82bde",
   "metadata": {},
   "outputs": [
    {
     "name": "stdout",
     "output_type": "stream",
     "text": [
      "sdkjfhasdhfiaus\n"
     ]
    }
   ],
   "source": [
    "\n",
    "for doc in documents:\n",
    "    if len(re.findall('[0-9:}{)(\"#@&]',doc))==0:\n",
    "         print(doc)\n",
    "    else:\n",
    "         pass"
   ]
  },
  {
   "cell_type": "code",
   "execution_count": 23,
   "id": "799a2f0b",
   "metadata": {},
   "outputs": [
    {
     "name": "stdout",
     "output_type": "stream",
     "text": [
      "sdkjfhasdhfiaus\n"
     ]
    }
   ],
   "source": [
    "# using ^ as R.E\n",
    "# when the length of document after removing special symbols is equal to the original length\n",
    "\n",
    "\n",
    "for doc in documents:\n",
    "    if len(re.findall('[^0-9:}{)(\"#@&]',doc))==len(doc):\n",
    "         print(doc)\n",
    "    else:\n",
    "         pass"
   ]
  },
  {
   "cell_type": "code",
   "execution_count": 16,
   "id": "a49c5bf4",
   "metadata": {},
   "outputs": [
    {
     "data": {
      "text/plain": [
       "['a', 's', 'd', 'a', 's', 'd', 'k', 'j', 'h']"
      ]
     },
     "execution_count": 16,
     "metadata": {},
     "output_type": "execute_result"
    }
   ],
   "source": [
    "re.findall('[^0-9]','asdasd981kjh12')"
   ]
  },
  {
   "cell_type": "code",
   "execution_count": 22,
   "id": "f2f5a39b",
   "metadata": {},
   "outputs": [
    {
     "name": "stdout",
     "output_type": "stream",
     "text": [
      "sdkjfhasdhfiaus\n"
     ]
    }
   ],
   "source": [
    "for doc in documents:\n",
    "    if len(re.findall('[^0-9]',doc))==len(doc):\n",
    "         print(doc)\n",
    "    else:\n",
    "         pass"
   ]
  },
  {
   "cell_type": "code",
   "execution_count": 24,
   "id": "57336b95",
   "metadata": {},
   "outputs": [],
   "source": [
    "# count all the back slashes in the documents"
   ]
  },
  {
   "cell_type": "code",
   "execution_count": 89,
   "id": "9168eeba",
   "metadata": {},
   "outputs": [],
   "source": [
    "doc = '\\nasd\\asdfasafaas\\asdfa\\sdfaasdad;'"
   ]
  },
  {
   "cell_type": "code",
   "execution_count": 90,
   "id": "3e832a27",
   "metadata": {},
   "outputs": [
    {
     "data": {
      "text/plain": [
       "'\\nasd\\x07sdfasafaas\\x07sdfa\\\\sdfaasdad;'"
      ]
     },
     "execution_count": 90,
     "metadata": {},
     "output_type": "execute_result"
    }
   ],
   "source": [
    "doc"
   ]
  },
  {
   "cell_type": "code",
   "execution_count": 98,
   "id": "3f65d2db",
   "metadata": {},
   "outputs": [
    {
     "data": {
      "text/plain": [
       "1"
      ]
     },
     "execution_count": 98,
     "metadata": {},
     "output_type": "execute_result"
    }
   ],
   "source": [
    "len(re.findall(\"[\\\\\\]\",doc))"
   ]
  },
  {
   "cell_type": "code",
   "execution_count": 53,
   "id": "b7d06e5b",
   "metadata": {},
   "outputs": [
    {
     "name": "stdout",
     "output_type": "stream",
     "text": [
      "''\n"
     ]
    }
   ],
   "source": [
    "print(\"'\\'\")"
   ]
  },
  {
   "cell_type": "code",
   "execution_count": 57,
   "id": "7707d4b0",
   "metadata": {},
   "outputs": [
    {
     "name": "stdout",
     "output_type": "stream",
     "text": [
      "\\\n"
     ]
    }
   ],
   "source": [
    "print(\"\\\\\")"
   ]
  },
  {
   "cell_type": "code",
   "execution_count": 64,
   "id": "513f76d9",
   "metadata": {},
   "outputs": [
    {
     "name": "stdout",
     "output_type": "stream",
     "text": [
      "[\\\\]\n"
     ]
    }
   ],
   "source": [
    "print('[\\\\\\]')"
   ]
  },
  {
   "cell_type": "code",
   "execution_count": 95,
   "id": "a85f764d",
   "metadata": {},
   "outputs": [
    {
     "name": "stdout",
     "output_type": "stream",
     "text": [
      "\\\\\n"
     ]
    }
   ],
   "source": [
    "print('\\\\\\\\')"
   ]
  },
  {
   "cell_type": "code",
   "execution_count": 96,
   "id": "6f7e3dab",
   "metadata": {},
   "outputs": [
    {
     "name": "stdout",
     "output_type": "stream",
     "text": [
      "[\\\\]\n"
     ]
    }
   ],
   "source": [
    "print('[\\\\\\\\]')"
   ]
  },
  {
   "cell_type": "code",
   "execution_count": 114,
   "id": "c6448949",
   "metadata": {},
   "outputs": [],
   "source": [
    "# should make 2 \\\\ because the normal \\ is treated as \\\\ by python string thus we need to pass \\\\\\"
   ]
  },
  {
   "cell_type": "code",
   "execution_count": 116,
   "id": "d2a18ff1",
   "metadata": {},
   "outputs": [
    {
     "data": {
      "text/plain": [
       "'\\\\n [helll from \\\\] fahkjh \\\\s\\\\asdfa\\\\sdf\\\\\\\\asdfa'"
      ]
     },
     "execution_count": 116,
     "metadata": {},
     "output_type": "execute_result"
    }
   ],
   "source": [
    "r'\\n [helll from \\] fahkjh \\s\\asdfa\\sdf\\\\asdfa'"
   ]
  },
  {
   "cell_type": "code",
   "execution_count": 99,
   "id": "7591bb6c",
   "metadata": {},
   "outputs": [],
   "source": [
    "# count all the square brackets and back slashes in the documents"
   ]
  },
  {
   "cell_type": "code",
   "execution_count": 110,
   "id": "c66b3ecb",
   "metadata": {},
   "outputs": [
    {
     "data": {
      "text/plain": [
       "['[', '\\\\', ']', '\\\\', '\\\\', '\\\\']"
      ]
     },
     "execution_count": 110,
     "metadata": {},
     "output_type": "execute_result"
    }
   ],
   "source": [
    "re.findall('[\\\\\\\\\\]\\[]','\\n [helll from \\] fahkjh \\s\\asdfa\\sdf\\\\asdfa')"
   ]
  },
  {
   "cell_type": "code",
   "execution_count": 111,
   "id": "def99da4",
   "metadata": {},
   "outputs": [
    {
     "data": {
      "text/plain": [
       "['\\\\', '[', '\\\\', ']', '\\\\', '\\\\', '\\\\', '\\\\', '\\\\']"
      ]
     },
     "execution_count": 111,
     "metadata": {},
     "output_type": "execute_result"
    }
   ],
   "source": [
    "re.findall('[\\\\\\\\\\]\\[]',r'\\n [helll from \\] fahkjh \\s\\asdfa\\sdf\\\\asdfa')"
   ]
  },
  {
   "cell_type": "code",
   "execution_count": 113,
   "id": "aee7dd78",
   "metadata": {},
   "outputs": [
    {
     "data": {
      "text/plain": [
       "['[', '\\\\', ']', '\\\\', '\\\\', '\\\\']"
      ]
     },
     "execution_count": 113,
     "metadata": {},
     "output_type": "execute_result"
    }
   ],
   "source": [
    "re.findall('[\\]\\[\\\\\\]','\\n [helll from \\] fahkjh \\s\\asdfa\\sdf\\\\asdfa')"
   ]
  },
  {
   "cell_type": "code",
   "execution_count": 120,
   "id": "9e20a8f2",
   "metadata": {},
   "outputs": [
    {
     "data": {
      "text/plain": [
       "9"
      ]
     },
     "execution_count": 120,
     "metadata": {},
     "output_type": "execute_result"
    }
   ],
   "source": [
    "len(re.findall('[\\\\\\\\\\]\\[]',r'\\n [helll from \\] fahkjh \\s\\asdfa\\sdf\\\\asdfa'))"
   ]
  },
  {
   "cell_type": "code",
   "execution_count": 119,
   "id": "a6733a1f",
   "metadata": {},
   "outputs": [],
   "source": [
    "## solution: 2 treating \\\\ and [] separately and adding them"
   ]
  },
  {
   "cell_type": "code",
   "execution_count": 121,
   "id": "d1c78402",
   "metadata": {},
   "outputs": [
    {
     "name": "stdout",
     "output_type": "stream",
     "text": [
      "the total length is: 9\n"
     ]
    }
   ],
   "source": [
    "st = r'\\n [helll from \\] fahkjh \\s\\asdfa\\sdf\\\\asdfa'\n",
    "re1 = '[\\[\\]]'\n",
    "re2 = '[\\\\\\]'\n",
    "\n",
    "\n",
    "l1 = len(re.findall(re1,st))\n",
    "l2 = len(re.findall(re2,st))\n",
    "\n",
    "print('the total length is:',l1+l2)"
   ]
  },
  {
   "cell_type": "code",
   "execution_count": null,
   "id": "86c76241",
   "metadata": {},
   "outputs": [],
   "source": []
  }
 ],
 "metadata": {
  "kernelspec": {
   "display_name": "Python 3",
   "language": "python",
   "name": "python3"
  },
  "language_info": {
   "codemirror_mode": {
    "name": "ipython",
    "version": 3
   },
   "file_extension": ".py",
   "mimetype": "text/x-python",
   "name": "python",
   "nbconvert_exporter": "python",
   "pygments_lexer": "ipython3",
   "version": "3.7.10"
  }
 },
 "nbformat": 4,
 "nbformat_minor": 5
}
