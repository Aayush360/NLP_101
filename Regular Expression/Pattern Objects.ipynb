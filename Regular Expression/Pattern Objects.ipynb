{
 "cells": [
  {
   "cell_type": "markdown",
   "id": "7f699635",
   "metadata": {},
   "source": [
    "### PATTERN OBJECTS"
   ]
  },
  {
   "cell_type": "code",
   "execution_count": 1,
   "id": "6ac26758",
   "metadata": {},
   "outputs": [],
   "source": [
    "import re"
   ]
  },
  {
   "cell_type": "code",
   "execution_count": 2,
   "id": "b3c3f669",
   "metadata": {},
   "outputs": [],
   "source": [
    "p = re.compile('a\\d*b', re.IGNORECASE)"
   ]
  },
  {
   "cell_type": "code",
   "execution_count": 6,
   "id": "6f8501dd",
   "metadata": {},
   "outputs": [
    {
     "data": {
      "text/plain": [
       "['a21312B', 'AB']"
      ]
     },
     "execution_count": 6,
     "metadata": {},
     "output_type": "execute_result"
    }
   ],
   "source": [
    "p.findall('a123asda21312Basdas213ABs')"
   ]
  },
  {
   "cell_type": "code",
   "execution_count": 7,
   "id": "4aeb15ff",
   "metadata": {},
   "outputs": [],
   "source": [
    "# given a document, count the number of space character at the beginning of the document"
   ]
  },
  {
   "cell_type": "code",
   "execution_count": 9,
   "id": "5a7f3c39",
   "metadata": {},
   "outputs": [],
   "source": [
    "doc = '   \\t    \\t  \\t    \\thow are you today.asdfa'"
   ]
  },
  {
   "cell_type": "code",
   "execution_count": 14,
   "id": "c23c774c",
   "metadata": {},
   "outputs": [],
   "source": [
    "p = re.compile('\\s+')"
   ]
  },
  {
   "cell_type": "code",
   "execution_count": 28,
   "id": "3bc9f92f",
   "metadata": {},
   "outputs": [
    {
     "data": {
      "text/plain": [
       "re.Pattern"
      ]
     },
     "execution_count": 28,
     "metadata": {},
     "output_type": "execute_result"
    }
   ],
   "source": [
    "type(p)"
   ]
  },
  {
   "cell_type": "code",
   "execution_count": 15,
   "id": "dc5c3ef5",
   "metadata": {},
   "outputs": [],
   "source": [
    "m=p.match(doc)"
   ]
  },
  {
   "cell_type": "code",
   "execution_count": 29,
   "id": "6989e03e",
   "metadata": {},
   "outputs": [
    {
     "name": "stdout",
     "output_type": "stream",
     "text": [
      "index span of the match is:  (0, 17)\n"
     ]
    }
   ],
   "source": [
    "print('index span of the match is: ',m.span())"
   ]
  },
  {
   "cell_type": "code",
   "execution_count": 20,
   "id": "985a7c02",
   "metadata": {},
   "outputs": [
    {
     "name": "stdout",
     "output_type": "stream",
     "text": [
      "start of the match is:  0\n"
     ]
    }
   ],
   "source": [
    "print('start of the match is: ',m.start())"
   ]
  },
  {
   "cell_type": "code",
   "execution_count": 21,
   "id": "8a0c7893",
   "metadata": {},
   "outputs": [
    {
     "name": "stdout",
     "output_type": "stream",
     "text": [
      "end of the match is: 17\n"
     ]
    }
   ],
   "source": [
    "print('end of the match is:', m.end())"
   ]
  },
  {
   "cell_type": "code",
   "execution_count": 23,
   "id": "d18bd75d",
   "metadata": {},
   "outputs": [
    {
     "name": "stdout",
     "output_type": "stream",
     "text": [
      "length of the match is:  17\n"
     ]
    }
   ],
   "source": [
    "print('length of the match is: ',len( m.group()))"
   ]
  },
  {
   "cell_type": "code",
   "execution_count": 24,
   "id": "47ca258e",
   "metadata": {},
   "outputs": [],
   "source": [
    "# string after the matched string"
   ]
  },
  {
   "cell_type": "code",
   "execution_count": 25,
   "id": "2de21f3f",
   "metadata": {},
   "outputs": [
    {
     "name": "stdout",
     "output_type": "stream",
     "text": [
      "how are you today.asdfa\n"
     ]
    }
   ],
   "source": [
    "print(doc[m.end():])"
   ]
  },
  {
   "cell_type": "code",
   "execution_count": 26,
   "id": "0b8f4949",
   "metadata": {},
   "outputs": [],
   "source": [
    "# string/pattern that is matched"
   ]
  },
  {
   "cell_type": "code",
   "execution_count": 27,
   "id": "19927f13",
   "metadata": {},
   "outputs": [
    {
     "data": {
      "text/plain": [
       "'   \\t    \\t  \\t    \\t'"
      ]
     },
     "execution_count": 27,
     "metadata": {},
     "output_type": "execute_result"
    }
   ],
   "source": [
    "m.group()"
   ]
  },
  {
   "cell_type": "code",
   "execution_count": 43,
   "id": "d2a664e3",
   "metadata": {},
   "outputs": [],
   "source": [
    "doc = 'a \\t    \\t  \\t    \\thow are you today.asdfa'\n",
    "p = re.compile('\\s+')\n",
    "m=p.match(doc)"
   ]
  },
  {
   "cell_type": "code",
   "execution_count": 44,
   "id": "c1dd05b5",
   "metadata": {},
   "outputs": [],
   "source": [
    "# print('index span of the match is: ',m.span())\n",
    "# print('start of the match is: ',m.start())\n",
    "# print('end of the match is:', m.end())\n",
    "# print('length of the match is: ',len( m.group()))"
   ]
  },
  {
   "cell_type": "code",
   "execution_count": 47,
   "id": "8bb08d7b",
   "metadata": {},
   "outputs": [
    {
     "data": {
      "text/plain": [
       "NoneType"
      ]
     },
     "execution_count": 47,
     "metadata": {},
     "output_type": "execute_result"
    }
   ],
   "source": [
    "type(m) # since there is no match"
   ]
  },
  {
   "cell_type": "code",
   "execution_count": 48,
   "id": "d2006a30",
   "metadata": {},
   "outputs": [],
   "source": [
    "doc = 'a \\t    \\t  \\t    \\thow are you today.asdfa'\n",
    "p = re.compile('\\s+')\n",
    "m=p.search(doc)"
   ]
  },
  {
   "cell_type": "code",
   "execution_count": 49,
   "id": "02b2745e",
   "metadata": {},
   "outputs": [
    {
     "data": {
      "text/plain": [
       "<re.Match object; span=(1, 16), match=' \\t    \\t  \\t    \\t'>"
      ]
     },
     "execution_count": 49,
     "metadata": {},
     "output_type": "execute_result"
    }
   ],
   "source": [
    "m"
   ]
  },
  {
   "cell_type": "code",
   "execution_count": 50,
   "id": "a23d2b2f",
   "metadata": {},
   "outputs": [
    {
     "data": {
      "text/plain": [
       "' \\t    \\t  \\t    \\t'"
      ]
     },
     "execution_count": 50,
     "metadata": {},
     "output_type": "execute_result"
    }
   ],
   "source": [
    "m.group()"
   ]
  },
  {
   "cell_type": "code",
   "execution_count": 51,
   "id": "e58de9b9",
   "metadata": {},
   "outputs": [
    {
     "data": {
      "text/plain": [
       "1"
      ]
     },
     "execution_count": 51,
     "metadata": {},
     "output_type": "execute_result"
    }
   ],
   "source": [
    "m.start()"
   ]
  },
  {
   "cell_type": "code",
   "execution_count": 52,
   "id": "9672cb68",
   "metadata": {},
   "outputs": [
    {
     "data": {
      "text/plain": [
       "16"
      ]
     },
     "execution_count": 52,
     "metadata": {},
     "output_type": "execute_result"
    }
   ],
   "source": [
    "m.end()"
   ]
  },
  {
   "cell_type": "code",
   "execution_count": 53,
   "id": "fca90522",
   "metadata": {},
   "outputs": [],
   "source": [
    "doc = 'a \\t    \\t  \\t    \\thow are you today.asdfa'\n",
    "p = re.compile('\\s*')\n",
    "m=p.match(doc)"
   ]
  },
  {
   "cell_type": "code",
   "execution_count": 54,
   "id": "9a2b8c0e",
   "metadata": {},
   "outputs": [
    {
     "data": {
      "text/plain": [
       "<re.Match object; span=(0, 0), match=''>"
      ]
     },
     "execution_count": 54,
     "metadata": {},
     "output_type": "execute_result"
    }
   ],
   "source": [
    "m"
   ]
  },
  {
   "cell_type": "code",
   "execution_count": 60,
   "id": "33e4afb2",
   "metadata": {},
   "outputs": [],
   "source": [
    "# matches the single space in the document, anywhere in the string \n",
    "doc = 'a \\t    \\t  \\t    \\thow are you today.asdfa'\n",
    "p = re.compile('\\s')\n",
    "m=p.search(doc)"
   ]
  },
  {
   "cell_type": "code",
   "execution_count": 57,
   "id": "4af49a33",
   "metadata": {},
   "outputs": [
    {
     "data": {
      "text/plain": [
       "<re.Match object; span=(1, 2), match=' '>"
      ]
     },
     "execution_count": 57,
     "metadata": {},
     "output_type": "execute_result"
    }
   ],
   "source": [
    "m"
   ]
  },
  {
   "cell_type": "code",
   "execution_count": 61,
   "id": "c085e5ad",
   "metadata": {},
   "outputs": [],
   "source": [
    "# findall although returns all the matches it does not return information about the matches"
   ]
  },
  {
   "cell_type": "markdown",
   "id": "4dd102ba",
   "metadata": {},
   "source": [
    "### findIter method"
   ]
  },
  {
   "cell_type": "code",
   "execution_count": 63,
   "id": "69f6ef99",
   "metadata": {},
   "outputs": [],
   "source": [
    "# find where the valid variable names in the document exist\n",
    "# along with this, we also want to find its location (start and end) along with its length"
   ]
  },
  {
   "cell_type": "code",
   "execution_count": 115,
   "id": "054e9b60",
   "metadata": {},
   "outputs": [],
   "source": [
    "doc = 'asfas_asf:?\"23easd21231!@#!3213'\n",
    "p = re.compile('[a-zA-Z_]\\w*')\n",
    "iterator = p.finditer(doc)"
   ]
  },
  {
   "cell_type": "code",
   "execution_count": 116,
   "id": "ed2b9fd6",
   "metadata": {},
   "outputs": [
    {
     "name": "stdout",
     "output_type": "stream",
     "text": [
      "<re.Match object; span=(0, 9), match='asfas_asf'>\n",
      "(0, 9) asfas_asf\n",
      "<re.Match object; span=(14, 23), match='easd21231'>\n",
      "(14, 23) easd21231\n"
     ]
    }
   ],
   "source": [
    "for i in iterator:\n",
    "    print(i)\n",
    "    print(i.span(),i.group())    "
   ]
  },
  {
   "cell_type": "code",
   "execution_count": 117,
   "id": "ac59c8a3",
   "metadata": {},
   "outputs": [],
   "source": [
    "doc = 'asfas_asf:?\"23easd21231!@#!3213'\n",
    "p = re.compile('[a-z_]\\w*', re.IGNORECASE)\n",
    "iterator = p.finditer(doc)"
   ]
  },
  {
   "cell_type": "code",
   "execution_count": 118,
   "id": "8660f11c",
   "metadata": {},
   "outputs": [
    {
     "name": "stdout",
     "output_type": "stream",
     "text": [
      "<re.Match object; span=(0, 9), match='asfas_asf'>\n",
      "(0, 9) asfas_asf\n",
      "<re.Match object; span=(14, 23), match='easd21231'>\n",
      "(14, 23) easd21231\n"
     ]
    }
   ],
   "source": [
    "for i in iterator:\n",
    "    print(i)\n",
    "    print(i.span(),i.group())"
   ]
  },
  {
   "cell_type": "code",
   "execution_count": null,
   "id": "94c9deac",
   "metadata": {},
   "outputs": [],
   "source": []
  }
 ],
 "metadata": {
  "kernelspec": {
   "display_name": "Python 3",
   "language": "python",
   "name": "python3"
  },
  "language_info": {
   "codemirror_mode": {
    "name": "ipython",
    "version": 3
   },
   "file_extension": ".py",
   "mimetype": "text/x-python",
   "name": "python",
   "nbconvert_exporter": "python",
   "pygments_lexer": "ipython3",
   "version": "3.7.10"
  }
 },
 "nbformat": 4,
 "nbformat_minor": 5
}
