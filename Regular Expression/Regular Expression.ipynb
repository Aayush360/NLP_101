{
 "cells": [
  {
   "cell_type": "code",
   "execution_count": 1,
   "id": "0b8eeb70",
   "metadata": {},
   "outputs": [],
   "source": [
    "import re"
   ]
  },
  {
   "cell_type": "code",
   "execution_count": 2,
   "id": "5f53a625",
   "metadata": {},
   "outputs": [
    {
     "data": {
      "text/plain": [
       "['a', 'a', 'x', 'a', 'a', 'a', 'x', 'a', 'a']"
      ]
     },
     "execution_count": 2,
     "metadata": {},
     "output_type": "execute_result"
    }
   ],
   "source": [
    "re.findall('[abx]','sadfasvxaiohdaoasfdxasfas')"
   ]
  },
  {
   "cell_type": "code",
   "execution_count": 3,
   "id": "5454b3e1",
   "metadata": {},
   "outputs": [
    {
     "data": {
      "text/plain": [
       "['a', 'a', 'a', 'd', 'a', 'a', 'b', 'c', 'd', 'd', 'a', 'd', 'a', 'd']"
      ]
     },
     "execution_count": 3,
     "metadata": {},
     "output_type": "execute_result"
    }
   ],
   "source": [
    "re.findall('[a-d]','assasafdaabcddfadsfasd')"
   ]
  },
  {
   "cell_type": "code",
   "execution_count": 4,
   "id": "141248fd",
   "metadata": {},
   "outputs": [],
   "source": [
    "## there are 11 meta characters "
   ]
  },
  {
   "cell_type": "code",
   "execution_count": 5,
   "id": "e556c80f",
   "metadata": {},
   "outputs": [],
   "source": [
    "# count the number of digits in the string"
   ]
  },
  {
   "cell_type": "code",
   "execution_count": 6,
   "id": "a000bdf9",
   "metadata": {},
   "outputs": [
    {
     "data": {
      "text/plain": [
       "['0', '9', '1', '8', '2', '0', '3', '3', '1']"
      ]
     },
     "execution_count": 6,
     "metadata": {},
     "output_type": "execute_result"
    }
   ],
   "source": [
    "re.findall('[0-9]','asdfoiasi0918203jslajslkd!@31$')"
   ]
  },
  {
   "cell_type": "code",
   "execution_count": 7,
   "id": "dadee9cf",
   "metadata": {},
   "outputs": [
    {
     "data": {
      "text/plain": [
       "9"
      ]
     },
     "execution_count": 7,
     "metadata": {},
     "output_type": "execute_result"
    }
   ],
   "source": [
    "len(re.findall('[0-9]','asdfoiasi0918203jslajslkd!@31$'))"
   ]
  },
  {
   "cell_type": "code",
   "execution_count": 8,
   "id": "9a7e8cfb",
   "metadata": {},
   "outputs": [],
   "source": [
    "#check if text contains any number with consecutive 4 digits"
   ]
  },
  {
   "cell_type": "code",
   "execution_count": 9,
   "id": "adfe1769",
   "metadata": {},
   "outputs": [
    {
     "data": {
      "text/plain": [
       "['0918']"
      ]
     },
     "execution_count": 9,
     "metadata": {},
     "output_type": "execute_result"
    }
   ],
   "source": [
    "re.findall('[0-9]{4}','asdfoiasi0918203jslajslkd!@31$')"
   ]
  },
  {
   "cell_type": "code",
   "execution_count": 10,
   "id": "36a83575",
   "metadata": {},
   "outputs": [
    {
     "data": {
      "text/plain": [
       "['0918', '2031']"
      ]
     },
     "execution_count": 10,
     "metadata": {},
     "output_type": "execute_result"
    }
   ],
   "source": [
    "re.findall('[0-9]{4}','asdfoiasi0918203121jslajslkd!@31$')"
   ]
  },
  {
   "cell_type": "code",
   "execution_count": 11,
   "id": "449922bb",
   "metadata": {},
   "outputs": [
    {
     "name": "stdout",
     "output_type": "stream",
     "text": [
      "found\n"
     ]
    }
   ],
   "source": [
    "\n",
    "if len(re.findall('[0-9][0-9][0-9][0-9]','asdfoiasi0918203121jslajslkd!@31$'))>0:\n",
    "    print('found')\n",
    "else:\n",
    "    print('not found')"
   ]
  },
  {
   "cell_type": "code",
   "execution_count": 12,
   "id": "98c95a6e",
   "metadata": {},
   "outputs": [],
   "source": [
    "# list the document that does not contain any digit or any of the following character \n",
    "# {:,\",(,),@,#,&,{,}}"
   ]
  },
  {
   "cell_type": "code",
   "execution_count": 13,
   "id": "cce513c6",
   "metadata": {},
   "outputs": [],
   "source": [
    "documents = ['asfa2091823hkjashkjca;djfhq9','askjfhask28937241kljasdfa.,adsfjky3{}qwq',\n",
    "            'asdkhfi2u09jdowajdf.,a;','waeduiqwhdbcxiuash2873492188721h][','sdkjfhasdhfiaus']"
   ]
  },
  {
   "cell_type": "code",
   "execution_count": 14,
   "id": "91b82bde",
   "metadata": {},
   "outputs": [
    {
     "name": "stdout",
     "output_type": "stream",
     "text": [
      "sdkjfhasdhfiaus\n"
     ]
    }
   ],
   "source": [
    "\n",
    "for doc in documents:\n",
    "    if len(re.findall('[0-9:}{)(\"#@&]',doc))==0:\n",
    "         print(doc)\n",
    "    else:\n",
    "         pass"
   ]
  },
  {
   "cell_type": "code",
   "execution_count": 15,
   "id": "799a2f0b",
   "metadata": {},
   "outputs": [
    {
     "name": "stdout",
     "output_type": "stream",
     "text": [
      "sdkjfhasdhfiaus\n"
     ]
    }
   ],
   "source": [
    "# using ^ as R.E\n",
    "# when the length of document after removing special symbols is equal to the original length\n",
    "\n",
    "\n",
    "for doc in documents:\n",
    "    if len(re.findall('[^0-9:}{)(\"#@&]',doc))==len(doc):\n",
    "         print(doc)\n",
    "    else:\n",
    "         pass"
   ]
  },
  {
   "cell_type": "code",
   "execution_count": 16,
   "id": "a49c5bf4",
   "metadata": {},
   "outputs": [
    {
     "data": {
      "text/plain": [
       "['a', 's', 'd', 'a', 's', 'd', 'k', 'j', 'h']"
      ]
     },
     "execution_count": 16,
     "metadata": {},
     "output_type": "execute_result"
    }
   ],
   "source": [
    "re.findall('[^0-9]','asdasd981kjh12')"
   ]
  },
  {
   "cell_type": "code",
   "execution_count": 17,
   "id": "f2f5a39b",
   "metadata": {},
   "outputs": [
    {
     "name": "stdout",
     "output_type": "stream",
     "text": [
      "sdkjfhasdhfiaus\n"
     ]
    }
   ],
   "source": [
    "for doc in documents:\n",
    "    if len(re.findall('[^0-9]',doc))==len(doc):\n",
    "         print(doc)\n",
    "    else:\n",
    "         pass"
   ]
  },
  {
   "cell_type": "code",
   "execution_count": 18,
   "id": "57336b95",
   "metadata": {},
   "outputs": [],
   "source": [
    "# count all the back slashes in the documents"
   ]
  },
  {
   "cell_type": "code",
   "execution_count": 19,
   "id": "9168eeba",
   "metadata": {},
   "outputs": [],
   "source": [
    "doc = '\\nasd\\asdfasafaas\\asdfa\\sdfaasdad;'"
   ]
  },
  {
   "cell_type": "code",
   "execution_count": 20,
   "id": "3e832a27",
   "metadata": {},
   "outputs": [
    {
     "data": {
      "text/plain": [
       "'\\nasd\\x07sdfasafaas\\x07sdfa\\\\sdfaasdad;'"
      ]
     },
     "execution_count": 20,
     "metadata": {},
     "output_type": "execute_result"
    }
   ],
   "source": [
    "doc"
   ]
  },
  {
   "cell_type": "code",
   "execution_count": 21,
   "id": "3f65d2db",
   "metadata": {},
   "outputs": [
    {
     "data": {
      "text/plain": [
       "1"
      ]
     },
     "execution_count": 21,
     "metadata": {},
     "output_type": "execute_result"
    }
   ],
   "source": [
    "len(re.findall(\"[\\\\\\]\",doc))"
   ]
  },
  {
   "cell_type": "code",
   "execution_count": 22,
   "id": "b7d06e5b",
   "metadata": {},
   "outputs": [
    {
     "name": "stdout",
     "output_type": "stream",
     "text": [
      "''\n"
     ]
    }
   ],
   "source": [
    "print(\"'\\'\")"
   ]
  },
  {
   "cell_type": "code",
   "execution_count": 23,
   "id": "7707d4b0",
   "metadata": {},
   "outputs": [
    {
     "name": "stdout",
     "output_type": "stream",
     "text": [
      "\\\n"
     ]
    }
   ],
   "source": [
    "print(\"\\\\\")"
   ]
  },
  {
   "cell_type": "code",
   "execution_count": 24,
   "id": "513f76d9",
   "metadata": {},
   "outputs": [
    {
     "name": "stdout",
     "output_type": "stream",
     "text": [
      "[\\\\]\n"
     ]
    }
   ],
   "source": [
    "print('[\\\\\\]')"
   ]
  },
  {
   "cell_type": "code",
   "execution_count": 25,
   "id": "a85f764d",
   "metadata": {},
   "outputs": [
    {
     "name": "stdout",
     "output_type": "stream",
     "text": [
      "\\\\\n"
     ]
    }
   ],
   "source": [
    "print('\\\\\\\\')"
   ]
  },
  {
   "cell_type": "code",
   "execution_count": 26,
   "id": "6f7e3dab",
   "metadata": {},
   "outputs": [
    {
     "name": "stdout",
     "output_type": "stream",
     "text": [
      "[\\\\]\n"
     ]
    }
   ],
   "source": [
    "print('[\\\\\\\\]')"
   ]
  },
  {
   "cell_type": "code",
   "execution_count": 27,
   "id": "c6448949",
   "metadata": {},
   "outputs": [],
   "source": [
    "# should make 2 \\\\ because the normal \\ is treated as \\\\ by python string thus we need to pass \\\\\\"
   ]
  },
  {
   "cell_type": "code",
   "execution_count": 28,
   "id": "d2a18ff1",
   "metadata": {},
   "outputs": [
    {
     "data": {
      "text/plain": [
       "'\\\\n [helll from \\\\] fahkjh \\\\s\\\\asdfa\\\\sdf\\\\\\\\asdfa'"
      ]
     },
     "execution_count": 28,
     "metadata": {},
     "output_type": "execute_result"
    }
   ],
   "source": [
    "r'\\n [helll from \\] fahkjh \\s\\asdfa\\sdf\\\\asdfa'"
   ]
  },
  {
   "cell_type": "code",
   "execution_count": 29,
   "id": "7591bb6c",
   "metadata": {},
   "outputs": [],
   "source": [
    "# count all the square brackets and back slashes in the documents"
   ]
  },
  {
   "cell_type": "code",
   "execution_count": 30,
   "id": "c66b3ecb",
   "metadata": {},
   "outputs": [
    {
     "data": {
      "text/plain": [
       "['[', '\\\\', ']', '\\\\', '\\\\', '\\\\']"
      ]
     },
     "execution_count": 30,
     "metadata": {},
     "output_type": "execute_result"
    }
   ],
   "source": [
    "re.findall('[\\\\\\\\\\]\\[]','\\n [helll from \\] fahkjh \\s\\asdfa\\sdf\\\\asdfa')"
   ]
  },
  {
   "cell_type": "code",
   "execution_count": 31,
   "id": "def99da4",
   "metadata": {},
   "outputs": [
    {
     "data": {
      "text/plain": [
       "['\\\\', '[', '\\\\', ']', '\\\\', '\\\\', '\\\\', '\\\\', '\\\\']"
      ]
     },
     "execution_count": 31,
     "metadata": {},
     "output_type": "execute_result"
    }
   ],
   "source": [
    "re.findall('[\\\\\\\\\\]\\[]',r'\\n [helll from \\] fahkjh \\s\\asdfa\\sdf\\\\asdfa')"
   ]
  },
  {
   "cell_type": "code",
   "execution_count": 32,
   "id": "aee7dd78",
   "metadata": {},
   "outputs": [
    {
     "data": {
      "text/plain": [
       "['[', '\\\\', ']', '\\\\', '\\\\', '\\\\']"
      ]
     },
     "execution_count": 32,
     "metadata": {},
     "output_type": "execute_result"
    }
   ],
   "source": [
    "re.findall('[\\]\\[\\\\\\]','\\n [helll from \\] fahkjh \\s\\asdfa\\sdf\\\\asdfa')"
   ]
  },
  {
   "cell_type": "code",
   "execution_count": 33,
   "id": "9e20a8f2",
   "metadata": {},
   "outputs": [
    {
     "data": {
      "text/plain": [
       "9"
      ]
     },
     "execution_count": 33,
     "metadata": {},
     "output_type": "execute_result"
    }
   ],
   "source": [
    "len(re.findall('[\\\\\\\\\\]\\[]',r'\\n [helll from \\] fahkjh \\s\\asdfa\\sdf\\\\asdfa'))"
   ]
  },
  {
   "cell_type": "code",
   "execution_count": 34,
   "id": "a6733a1f",
   "metadata": {},
   "outputs": [],
   "source": [
    "## solution: 2 treating \\\\ and [] separately and adding them"
   ]
  },
  {
   "cell_type": "code",
   "execution_count": 35,
   "id": "d1c78402",
   "metadata": {},
   "outputs": [
    {
     "name": "stdout",
     "output_type": "stream",
     "text": [
      "the total length is: 9\n"
     ]
    }
   ],
   "source": [
    "st = r'\\n [helll from \\] fahkjh \\s\\asdfa\\sdf\\\\asdfa'\n",
    "re1 = '[\\[\\]]'\n",
    "re2 = '[\\\\\\]'\n",
    "\n",
    "\n",
    "l1 = len(re.findall(re1,st))\n",
    "l2 = len(re.findall(re2,st))\n",
    "\n",
    "print('the total length is:',l1+l2)"
   ]
  },
  {
   "cell_type": "code",
   "execution_count": 36,
   "id": "86c76241",
   "metadata": {},
   "outputs": [
    {
     "data": {
      "text/plain": [
       "['[', ']']"
      ]
     },
     "execution_count": 36,
     "metadata": {},
     "output_type": "execute_result"
    }
   ],
   "source": [
    "re.findall(re1,st)"
   ]
  },
  {
   "cell_type": "code",
   "execution_count": 37,
   "id": "2623e61b",
   "metadata": {},
   "outputs": [
    {
     "data": {
      "text/plain": [
       "['\\\\', '\\\\', '\\\\', '\\\\', '\\\\', '\\\\', '\\\\']"
      ]
     },
     "execution_count": 37,
     "metadata": {},
     "output_type": "execute_result"
    }
   ],
   "source": [
    "re.findall(re2,st)"
   ]
  },
  {
   "cell_type": "code",
   "execution_count": 38,
   "id": "a81ff1b2",
   "metadata": {},
   "outputs": [],
   "source": [
    "# count all \\section "
   ]
  },
  {
   "cell_type": "code",
   "execution_count": 39,
   "id": "f3bec14d",
   "metadata": {},
   "outputs": [],
   "source": [
    "doc = '\\n for new [line ] \\section and \\document and \\\\\\section 0 89809 \\n'"
   ]
  },
  {
   "cell_type": "code",
   "execution_count": 40,
   "id": "a72537c7",
   "metadata": {},
   "outputs": [
    {
     "data": {
      "text/plain": [
       "['\\\\section', '\\\\section']"
      ]
     },
     "execution_count": 40,
     "metadata": {},
     "output_type": "execute_result"
    }
   ],
   "source": [
    "re.findall('\\\\\\section',doc)"
   ]
  },
  {
   "cell_type": "code",
   "execution_count": 41,
   "id": "70d357db",
   "metadata": {},
   "outputs": [
    {
     "data": {
      "text/plain": [
       "2"
      ]
     },
     "execution_count": 41,
     "metadata": {},
     "output_type": "execute_result"
    }
   ],
   "source": [
    "len(re.findall('\\\\\\section',doc))"
   ]
  },
  {
   "cell_type": "code",
   "execution_count": 42,
   "id": "5b7b941d",
   "metadata": {},
   "outputs": [
    {
     "data": {
      "text/plain": [
       "2"
      ]
     },
     "execution_count": 42,
     "metadata": {},
     "output_type": "execute_result"
    }
   ],
   "source": [
    "len(re.findall('[\\\\\\]section',doc))"
   ]
  },
  {
   "cell_type": "code",
   "execution_count": 43,
   "id": "25dbb89a",
   "metadata": {},
   "outputs": [
    {
     "data": {
      "text/plain": [
       "['\\\\section', '\\\\section']"
      ]
     },
     "execution_count": 43,
     "metadata": {},
     "output_type": "execute_result"
    }
   ],
   "source": [
    "re.findall('[\\\\\\]section',doc)"
   ]
  },
  {
   "cell_type": "code",
   "execution_count": 44,
   "id": "eeab1f7b",
   "metadata": {},
   "outputs": [],
   "source": [
    "# count number of space digits and underscores in a document"
   ]
  },
  {
   "cell_type": "code",
   "execution_count": 45,
   "id": "0d034a93",
   "metadata": {},
   "outputs": [
    {
     "data": {
      "text/plain": [
       "['\\n',\n",
       " ' ',\n",
       " ' ',\n",
       " ' ',\n",
       " ' ',\n",
       " ' ',\n",
       " ' ',\n",
       " ' ',\n",
       " ' ',\n",
       " ' ',\n",
       " ' ',\n",
       " '0',\n",
       " ' ',\n",
       " '8',\n",
       " '9',\n",
       " '8',\n",
       " '0',\n",
       " '9',\n",
       " ' ',\n",
       " '\\n']"
      ]
     },
     "execution_count": 45,
     "metadata": {},
     "output_type": "execute_result"
    }
   ],
   "source": [
    "re.findall('[\\s\\d_]',doc)"
   ]
  },
  {
   "cell_type": "code",
   "execution_count": 46,
   "id": "11e51743",
   "metadata": {},
   "outputs": [
    {
     "data": {
      "text/plain": [
       "20"
      ]
     },
     "execution_count": 46,
     "metadata": {},
     "output_type": "execute_result"
    }
   ],
   "source": [
    "len(re.findall('[\\s\\d_]',doc))"
   ]
  },
  {
   "cell_type": "code",
   "execution_count": 47,
   "id": "d9e58cf3",
   "metadata": {},
   "outputs": [
    {
     "data": {
      "text/plain": [
       "'\\n for new [line ] \\\\section and \\\\document and \\\\\\\\section 0 89809 \\n'"
      ]
     },
     "execution_count": 47,
     "metadata": {},
     "output_type": "execute_result"
    }
   ],
   "source": [
    "doc"
   ]
  },
  {
   "cell_type": "code",
   "execution_count": 48,
   "id": "677db66d",
   "metadata": {},
   "outputs": [
    {
     "data": {
      "text/plain": [
       "20"
      ]
     },
     "execution_count": 48,
     "metadata": {},
     "output_type": "execute_result"
    }
   ],
   "source": [
    "len(re.findall('[\\s0-9_]',doc))"
   ]
  },
  {
   "cell_type": "code",
   "execution_count": 49,
   "id": "d0edb959",
   "metadata": {},
   "outputs": [],
   "source": [
    "# atleast 2 occurences of o's yahoo"
   ]
  },
  {
   "cell_type": "code",
   "execution_count": 50,
   "id": "1501ecc9",
   "metadata": {},
   "outputs": [],
   "source": [
    "doc = 'YahooYahoYahooooYahooooooooooYahoodsajkfhkasd;'"
   ]
  },
  {
   "cell_type": "code",
   "execution_count": 51,
   "id": "f3224b6e",
   "metadata": {},
   "outputs": [
    {
     "data": {
      "text/plain": [
       "['Yahoo', 'Yahoooo', 'Yahoooooooooo', 'Yahoo']"
      ]
     },
     "execution_count": 51,
     "metadata": {},
     "output_type": "execute_result"
    }
   ],
   "source": [
    "re.findall('Yahooo*',doc)"
   ]
  },
  {
   "cell_type": "code",
   "execution_count": 52,
   "id": "f2984ea0",
   "metadata": {},
   "outputs": [],
   "source": [
    "# find variable name: does not start with a digit and does not contain any special \n",
    "# character other than\n",
    "# the underscore, and it can have arbitaty number of characters"
   ]
  },
  {
   "cell_type": "code",
   "execution_count": 53,
   "id": "a34148c7",
   "metadata": {},
   "outputs": [],
   "source": [
    "rexp = '[^\\d!@#$%^&;*\\\\{\\}(\\)-+=\\]\\[][\\w_]*'"
   ]
  },
  {
   "cell_type": "code",
   "execution_count": 54,
   "id": "e56462da",
   "metadata": {},
   "outputs": [],
   "source": [
    "doc = '{{{asdfasd@asfasdf}}}'"
   ]
  },
  {
   "cell_type": "code",
   "execution_count": 55,
   "id": "3a525f81",
   "metadata": {},
   "outputs": [
    {
     "data": {
      "text/plain": [
       "['asdfasd', 'asfasdf']"
      ]
     },
     "execution_count": 55,
     "metadata": {},
     "output_type": "execute_result"
    }
   ],
   "source": [
    "re.findall(rexp,doc)"
   ]
  },
  {
   "cell_type": "code",
   "execution_count": 56,
   "id": "925bd852",
   "metadata": {},
   "outputs": [],
   "source": [
    "doc = 'asdfj;laieorkdjf;aliejr;4kjd f23k4j;lajds;l'"
   ]
  },
  {
   "cell_type": "code",
   "execution_count": 57,
   "id": "2dbd6649",
   "metadata": {},
   "outputs": [
    {
     "data": {
      "text/plain": [
       "['asdfj', 'laieorkdjf', 'aliejr', 'kjd', ' f23k4j', 'lajds', 'l']"
      ]
     },
     "execution_count": 57,
     "metadata": {},
     "output_type": "execute_result"
    }
   ],
   "source": [
    "re.findall(rexp,doc)"
   ]
  },
  {
   "cell_type": "code",
   "execution_count": 58,
   "id": "4e177cff",
   "metadata": {},
   "outputs": [],
   "source": [
    "reexxp = '[a-zA-Z_]\\w*'"
   ]
  },
  {
   "cell_type": "code",
   "execution_count": 59,
   "id": "43691c69",
   "metadata": {},
   "outputs": [
    {
     "data": {
      "text/plain": [
       "['asdfj', 'laieorkdjf', 'aliejr', 'kjd', 'f23k4j', 'lajds', 'l']"
      ]
     },
     "execution_count": 59,
     "metadata": {},
     "output_type": "execute_result"
    }
   ],
   "source": [
    "re.findall(reexxp,doc)"
   ]
  },
  {
   "cell_type": "code",
   "execution_count": 60,
   "id": "2bacc3ad",
   "metadata": {},
   "outputs": [],
   "source": [
    "# list of functions and variables"
   ]
  },
  {
   "cell_type": "code",
   "execution_count": 61,
   "id": "9b40020e",
   "metadata": {},
   "outputs": [],
   "source": [
    "fun_var = ['name','_name','123asaf','asdf2134','HelloFunc']"
   ]
  },
  {
   "cell_type": "code",
   "execution_count": 62,
   "id": "294dfc2e",
   "metadata": {},
   "outputs": [],
   "source": [
    "def checker(names):\n",
    "    reexp = '[a-zA-Z_]\\w*'\n",
    "    for name in names:\n",
    "        if len(re.findall(reexp,name))==len:\n",
    "            print(\"ok\")\n",
    "        else:\n",
    "            print('error')"
   ]
  },
  {
   "cell_type": "code",
   "execution_count": 63,
   "id": "271280ba",
   "metadata": {},
   "outputs": [
    {
     "name": "stdout",
     "output_type": "stream",
     "text": [
      "error\n",
      "error\n",
      "error\n",
      "error\n",
      "error\n"
     ]
    }
   ],
   "source": [
    "checker(fun_var)"
   ]
  },
  {
   "cell_type": "code",
   "execution_count": 64,
   "id": "c426ad12",
   "metadata": {},
   "outputs": [
    {
     "data": {
      "text/plain": [
       "['asdas']"
      ]
     },
     "execution_count": 64,
     "metadata": {},
     "output_type": "execute_result"
    }
   ],
   "source": [
    "reexp = '[a-zA-Z_]\\w*'\n",
    "\n",
    "re.findall(reexp,'123asdas')"
   ]
  },
  {
   "cell_type": "markdown",
   "id": "236a1cff",
   "metadata": {},
   "source": [
    "### Plus(+) as Meta Character"
   ]
  },
  {
   "cell_type": "code",
   "execution_count": 66,
   "id": "70d2edc3",
   "metadata": {},
   "outputs": [],
   "source": [
    "# o should appear atleast twice"
   ]
  },
  {
   "cell_type": "code",
   "execution_count": 67,
   "id": "f08b5a2e",
   "metadata": {},
   "outputs": [
    {
     "data": {
      "text/plain": [
       "['Yahoo', 'Yahooooo', 'Yahoo', 'Yahooooooooooooooooooo']"
      ]
     },
     "execution_count": 67,
     "metadata": {},
     "output_type": "execute_result"
    }
   ],
   "source": [
    "doc = 'YahoYahooYahYahoooooakalhdfYahooHSJDHYahooooooooooooooooooo'\n",
    "regex = 'Yahoo+'\n",
    "re.findall(regex,doc)"
   ]
  },
  {
   "cell_type": "markdown",
   "id": "9cd06e9f",
   "metadata": {},
   "source": [
    "### ? as Meta Character"
   ]
  },
  {
   "cell_type": "code",
   "execution_count": 68,
   "id": "6cb7e23f",
   "metadata": {},
   "outputs": [
    {
     "data": {
      "text/plain": [
       "['Yahoo', 'Yahoo', 'Yaoo', 'Yahoo']"
      ]
     },
     "execution_count": 68,
     "metadata": {},
     "output_type": "execute_result"
    }
   ],
   "source": [
    "doc = 'YahooYahoooooYaoooYahoYahoo'\n",
    "reexp = 'Yah?oo'\n",
    "\n",
    "re.findall(reexp,doc)"
   ]
  },
  {
   "cell_type": "code",
   "execution_count": 69,
   "id": "fbc9a884",
   "metadata": {},
   "outputs": [],
   "source": [
    "# occurence of h is optional, could appear once or zero time"
   ]
  },
  {
   "cell_type": "code",
   "execution_count": 70,
   "id": "a1111aa7",
   "metadata": {},
   "outputs": [
    {
     "data": {
      "text/plain": [
       "['Yahoo', 'Yahooooo', 'Yaooo', 'Yahoo']"
      ]
     },
     "execution_count": 70,
     "metadata": {},
     "output_type": "execute_result"
    }
   ],
   "source": [
    "doc = 'YahooYahoooooYaoooYahoYahoo'\n",
    "reexp = 'Yah?oo+'\n",
    "\n",
    "re.findall(reexp,doc)"
   ]
  },
  {
   "cell_type": "code",
   "execution_count": 72,
   "id": "0430a1c7",
   "metadata": {},
   "outputs": [],
   "source": [
    "# list all substring in a document that contains at least 2 digit and atmost 5 digits"
   ]
  },
  {
   "cell_type": "code",
   "execution_count": 80,
   "id": "8a726849",
   "metadata": {},
   "outputs": [],
   "source": [
    "doc = ['123sdf234s12dssdsd222342342343','123asdassda3','sadfa23sad23dsaasdaskdjf']"
   ]
  },
  {
   "cell_type": "code",
   "execution_count": 86,
   "id": "06ff4d87",
   "metadata": {},
   "outputs": [
    {
     "name": "stdout",
     "output_type": "stream",
     "text": [
      "123\n",
      "234\n",
      "12\n",
      "222342342\n",
      "343\n",
      "123\n",
      "23\n",
      "23\n"
     ]
    }
   ],
   "source": [
    "for d in doc:\n",
    "    ls = re.findall('[0-9]{2,9}',d)\n",
    "    for x in ls:\n",
    "         print(x)\n",
    "        \n",
    "    "
   ]
  },
  {
   "cell_type": "code",
   "execution_count": 83,
   "id": "7ff1f0dd",
   "metadata": {},
   "outputs": [
    {
     "data": {
      "text/plain": [
       "['123', '234', '12', '222342342', '343']"
      ]
     },
     "execution_count": 83,
     "metadata": {},
     "output_type": "execute_result"
    }
   ],
   "source": [
    "re.findall('[0-9]{2,9}','123sdf234s12dssdsd222342342343')"
   ]
  },
  {
   "cell_type": "code",
   "execution_count": 90,
   "id": "62b761d6",
   "metadata": {},
   "outputs": [],
   "source": [
    "# re.findall('[0-90-90-90-90-90-9]','123sdf234s12dssdsd222342342343')"
   ]
  },
  {
   "cell_type": "code",
   "execution_count": 91,
   "id": "130aa727",
   "metadata": {},
   "outputs": [
    {
     "data": {
      "text/plain": [
       "['123', '234', '12', '22234', '23423', '43']"
      ]
     },
     "execution_count": 91,
     "metadata": {},
     "output_type": "execute_result"
    }
   ],
   "source": [
    "reexp = '\\d{2,5}'\n",
    "re.findall(reexp,'123sdf234s12dssdsd222342342343')"
   ]
  },
  {
   "cell_type": "code",
   "execution_count": null,
   "id": "cc14df00",
   "metadata": {},
   "outputs": [],
   "source": []
  }
 ],
 "metadata": {
  "kernelspec": {
   "display_name": "Python 3",
   "language": "python",
   "name": "python3"
  },
  "language_info": {
   "codemirror_mode": {
    "name": "ipython",
    "version": 3
   },
   "file_extension": ".py",
   "mimetype": "text/x-python",
   "name": "python",
   "nbconvert_exporter": "python",
   "pygments_lexer": "ipython3",
   "version": "3.7.10"
  }
 },
 "nbformat": 4,
 "nbformat_minor": 5
}
