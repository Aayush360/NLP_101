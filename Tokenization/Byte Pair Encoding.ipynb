{
 "cells": [
  {
   "cell_type": "code",
   "execution_count": 1,
   "id": "18534384",
   "metadata": {},
   "outputs": [],
   "source": [
    "import numpy as np\n",
    "import re\n",
    "\n",
    "from operator import itemgetter"
   ]
  },
  {
   "cell_type": "code",
   "execution_count": 2,
   "id": "c12c6676",
   "metadata": {},
   "outputs": [],
   "source": [
    "Corpus = {\n",
    "    \n",
    "    'l o w _':5,\n",
    "    'l o w e r _':2,\n",
    "    'n e w e s t _':6,\n",
    "    'w i d e s t _':3,\n",
    "    'h a p p i e r _':2\n",
    "    \n",
    "}"
   ]
  },
  {
   "cell_type": "code",
   "execution_count": 3,
   "id": "1b91fa03",
   "metadata": {},
   "outputs": [
    {
     "data": {
      "text/plain": [
       "{'l o w _': 5,\n",
       " 'l o w e r _': 2,\n",
       " 'n e w e s t _': 6,\n",
       " 'w i d e s t _': 3,\n",
       " 'h a p p i e r _': 2}"
      ]
     },
     "execution_count": 3,
     "metadata": {},
     "output_type": "execute_result"
    }
   ],
   "source": [
    "Corpus"
   ]
  },
  {
   "cell_type": "code",
   "execution_count": 4,
   "id": "3216a6e1",
   "metadata": {},
   "outputs": [],
   "source": [
    "def getPairCounts(Corpus):\n",
    "    '''returns all the pairs and their count '''\n",
    "    pairs = {}\n",
    "    for word,fr in Corpus.items():\n",
    "        symbols = word.split(' ')\n",
    "        for i in range(len(symbols)-1):\n",
    "            pair = (symbols[i],symbols[i+1])\n",
    "            cfr = pairs.get(pair,0)\n",
    "            pairs[pair] = cfr+fr\n",
    "    \n",
    "    return pairs"
   ]
  },
  {
   "cell_type": "code",
   "execution_count": 5,
   "id": "e783aa4d",
   "metadata": {},
   "outputs": [],
   "source": [
    "pairsCount = getPairCounts(Corpus)"
   ]
  },
  {
   "cell_type": "code",
   "execution_count": 7,
   "id": "90573b76",
   "metadata": {},
   "outputs": [
    {
     "data": {
      "text/plain": [
       "{('l', 'o'): 7,\n",
       " ('o', 'w'): 7,\n",
       " ('w', '_'): 5,\n",
       " ('w', 'e'): 8,\n",
       " ('e', 'r'): 4,\n",
       " ('r', '_'): 4,\n",
       " ('n', 'e'): 6,\n",
       " ('e', 'w'): 6,\n",
       " ('e', 's'): 9,\n",
       " ('s', 't'): 9,\n",
       " ('t', '_'): 9,\n",
       " ('w', 'i'): 3,\n",
       " ('i', 'd'): 3,\n",
       " ('d', 'e'): 3,\n",
       " ('h', 'a'): 2,\n",
       " ('a', 'p'): 2,\n",
       " ('p', 'p'): 2,\n",
       " ('p', 'i'): 2,\n",
       " ('i', 'e'): 2}"
      ]
     },
     "execution_count": 7,
     "metadata": {},
     "output_type": "execute_result"
    }
   ],
   "source": [
    "pairsCount"
   ]
  },
  {
   "cell_type": "code",
   "execution_count": 9,
   "id": "61886302",
   "metadata": {},
   "outputs": [],
   "source": [
    "# given pairs, find the best pair\n",
    "\n",
    "def getBestPair(pairCounts):\n",
    "    return max(pairCounts, key=pairCounts.get)"
   ]
  },
  {
   "cell_type": "code",
   "execution_count": 10,
   "id": "d5f5c7e8",
   "metadata": {},
   "outputs": [
    {
     "data": {
      "text/plain": [
       "('e', 's')"
      ]
     },
     "execution_count": 10,
     "metadata": {},
     "output_type": "execute_result"
    }
   ],
   "source": [
    "getBestPair(pairsCount)"
   ]
  },
  {
   "cell_type": "code",
   "execution_count": 13,
   "id": "b5951a81",
   "metadata": {},
   "outputs": [],
   "source": [
    "# merging the best pair in the Corpus\n",
    "\n",
    "def mergeInCorpus(bestPair, Corpus):\n",
    "    newCorpus = {}\n",
    "    for word in Corpus:\n",
    "        newWord = re.sub(' '.join(bestPair),''.join(bestPair), word) # replace  freq occ pairhaving space with one without space\n",
    "        newCorpus[newWord] = Corpus[word]\n",
    "    return newCorpus"
   ]
  },
  {
   "cell_type": "code",
   "execution_count": 14,
   "id": "d06f68f7",
   "metadata": {},
   "outputs": [],
   "source": [
    "bestPair = getBestPair(pairsCount)\n",
    "newCorpus = mergeInCorpus(bestPair,Corpus)"
   ]
  },
  {
   "cell_type": "code",
   "execution_count": 15,
   "id": "e0743a70",
   "metadata": {},
   "outputs": [
    {
     "data": {
      "text/plain": [
       "{'l o w _': 5,\n",
       " 'l o w e r _': 2,\n",
       " 'n e w es t _': 6,\n",
       " 'w i d es t _': 3,\n",
       " 'h a p p i e r _': 2}"
      ]
     },
     "execution_count": 15,
     "metadata": {},
     "output_type": "execute_result"
    }
   ],
   "source": [
    "newCorpus"
   ]
  },
  {
   "cell_type": "code",
   "execution_count": 16,
   "id": "7758a904",
   "metadata": {},
   "outputs": [],
   "source": [
    "def runBPE(Corpus,k):\n",
    "    bpeStats={}\n",
    "    for i in range(k):\n",
    "        pairCounts = getPairCounts(Corpus)\n",
    "        if not pairCounts:\n",
    "            break\n",
    "        bestPair = getBestPair(pairCounts)\n",
    "        # stores stats for when the merge has occured\n",
    "        bpeStats[bestPair]=i\n",
    "        Corpus = mergeInCorpus(bestPair,Corpus)\n",
    "    return Corpus,bpeStats\n",
    "        "
   ]
  },
  {
   "cell_type": "code",
   "execution_count": 17,
   "id": "a0c3e6c8",
   "metadata": {},
   "outputs": [],
   "source": [
    "Corpus = {\n",
    "    \n",
    "    'l o w _':5,\n",
    "    'l o w e r _':2,\n",
    "    'n e w e s t _':6,\n",
    "    'w i d e s t _':3,\n",
    "    'h a p p i e r _':2\n",
    "    \n",
    "}"
   ]
  },
  {
   "cell_type": "code",
   "execution_count": 18,
   "id": "9fa40f31",
   "metadata": {},
   "outputs": [],
   "source": [
    "newCorpus,bpeStats = runBPE(Corpus,10)"
   ]
  },
  {
   "cell_type": "code",
   "execution_count": 19,
   "id": "21670e5c",
   "metadata": {},
   "outputs": [
    {
     "data": {
      "text/plain": [
       "{'low_': 5, 'low er _': 2, 'newest_': 6, 'w i d est_': 3, 'h a p p i er _': 2}"
      ]
     },
     "execution_count": 19,
     "metadata": {},
     "output_type": "execute_result"
    }
   ],
   "source": [
    "newCorpus"
   ]
  },
  {
   "cell_type": "code",
   "execution_count": 20,
   "id": "88c93983",
   "metadata": {},
   "outputs": [
    {
     "data": {
      "text/plain": [
       "{('e', 's'): 0,\n",
       " ('es', 't'): 1,\n",
       " ('est', '_'): 2,\n",
       " ('l', 'o'): 3,\n",
       " ('lo', 'w'): 4,\n",
       " ('n', 'e'): 5,\n",
       " ('ne', 'w'): 6,\n",
       " ('new', 'est_'): 7,\n",
       " ('low', '_'): 8,\n",
       " ('e', 'r'): 9}"
      ]
     },
     "execution_count": 20,
     "metadata": {},
     "output_type": "execute_result"
    }
   ],
   "source": [
    "bpeStats"
   ]
  },
  {
   "cell_type": "code",
   "execution_count": 37,
   "id": "74c05ec8",
   "metadata": {},
   "outputs": [
    {
     "data": {
      "text/plain": [
       "'l o w e s t _'"
      ]
     },
     "execution_count": 37,
     "metadata": {},
     "output_type": "execute_result"
    }
   ],
   "source": [
    "newWord = 'lowest'\n",
    "newWord2 = ' '.join(list(newWord))+' _'\n",
    "newWord2"
   ]
  },
  {
   "cell_type": "code",
   "execution_count": 38,
   "id": "5af5d8ac",
   "metadata": {},
   "outputs": [],
   "source": [
    "def getAllPairs(word):\n",
    "    pairs = []\n",
    "    word = word.split(' ')\n",
    "    prevChar = word[0]\n",
    "    for char in word[1:]:\n",
    "        pairs.append((prevChar,char))\n",
    "        prevChar = char\n",
    "    return pairs\n",
    "        "
   ]
  },
  {
   "cell_type": "code",
   "execution_count": 47,
   "id": "58fcfe32",
   "metadata": {},
   "outputs": [
    {
     "data": {
      "text/plain": [
       "[('l', 'o'), ('o', 'w'), ('w', 'e'), ('e', 's'), ('s', 't'), ('t', '_')]"
      ]
     },
     "execution_count": 47,
     "metadata": {},
     "output_type": "execute_result"
    }
   ],
   "source": [
    "pairs = getAllPairs(newWord2)\n",
    "pairs\n",
    "# there is no ordering in this list,, i.e index 1 does not imply it is importasnt that 2"
   ]
  },
  {
   "cell_type": "code",
   "execution_count": 64,
   "id": "3a7eb9df",
   "metadata": {},
   "outputs": [],
   "source": [
    "def getPairToBeMerged(bpeStats,pairs):\n",
    "    bpeCodes = [(pair,bpeStats[pair]) for pair in pairs if pair in bpeStats]\n",
    "    if len(bpeCodes)==0:\n",
    "        return (-1,-1)\n",
    "    pairToBeMered = min(bpeCodes, key=itemgetter(1))[0]\n",
    "    return pairToBeMered"
   ]
  },
  {
   "cell_type": "code",
   "execution_count": 60,
   "id": "5968a425",
   "metadata": {},
   "outputs": [
    {
     "data": {
      "text/plain": [
       "('e', 's')"
      ]
     },
     "execution_count": 60,
     "metadata": {},
     "output_type": "execute_result"
    }
   ],
   "source": [
    "pairToBeMered=getPairToBeMerged(bpeStats,pairs)\n",
    "pairToBeMered"
   ]
  },
  {
   "cell_type": "code",
   "execution_count": 56,
   "id": "60a81a93",
   "metadata": {},
   "outputs": [
    {
     "data": {
      "text/plain": [
       "[(('l', 'o'), 3), (('e', 's'), 0)]"
      ]
     },
     "execution_count": 56,
     "metadata": {},
     "output_type": "execute_result"
    }
   ],
   "source": [
    "[(pair,bpeStats[pair]) for pair in pairs if pair in bpeStats]"
   ]
  },
  {
   "cell_type": "code",
   "execution_count": 55,
   "id": "a258b569",
   "metadata": {},
   "outputs": [
    {
     "data": {
      "text/plain": [
       "(('e', 's'), 0)"
      ]
     },
     "execution_count": 55,
     "metadata": {},
     "output_type": "execute_result"
    }
   ],
   "source": [
    "min([(pair,bpeStats[pair]) for pair in pairs if pair in bpeStats], key=itemgetter(1))"
   ]
  },
  {
   "cell_type": "code",
   "execution_count": 54,
   "id": "9d0cfb5b",
   "metadata": {},
   "outputs": [
    {
     "data": {
      "text/plain": [
       "('e', 's')"
      ]
     },
     "execution_count": 54,
     "metadata": {},
     "output_type": "execute_result"
    }
   ],
   "source": [
    "min([(pair,bpeStats[pair]) for pair in pairs if pair in bpeStats], key=itemgetter(1))[0]"
   ]
  },
  {
   "cell_type": "code",
   "execution_count": 58,
   "id": "a6905d62",
   "metadata": {},
   "outputs": [],
   "source": [
    "def mergedWord(word,pairToBeMerged):\n",
    "    newWord = re.sub(' '.join(pairToBeMerged),''.join(pairToBeMerged),word)\n",
    "    return newWord"
   ]
  },
  {
   "cell_type": "code",
   "execution_count": 61,
   "id": "17e9fe02",
   "metadata": {},
   "outputs": [
    {
     "data": {
      "text/plain": [
       "'l o w es t _'"
      ]
     },
     "execution_count": 61,
     "metadata": {},
     "output_type": "execute_result"
    }
   ],
   "source": [
    "mergedWord(newWord2,pairToBeMered)"
   ]
  },
  {
   "cell_type": "code",
   "execution_count": 65,
   "id": "a7a3ea89",
   "metadata": {},
   "outputs": [],
   "source": [
    "def bpeTokenize(word,bpeStats):\n",
    "    if len(word)==1:\n",
    "        return word\n",
    "    word = ' '.join(list(word))+' _'\n",
    "    while True:\n",
    "        pairs = getAllPairs(word)\n",
    "        pairToBeMerged = getPairToBeMerged(bpeStats,pairs)\n",
    "        if pairToBeMerged[0] == -1:\n",
    "            break\n",
    "        word = mergedWord(word,pairToBeMerged)\n",
    "        \n",
    "    return word"
   ]
  },
  {
   "cell_type": "code",
   "execution_count": 66,
   "id": "2e429481",
   "metadata": {},
   "outputs": [],
   "source": [
    "newWord = bpeTokenize('lowest', bpeStats)"
   ]
  },
  {
   "cell_type": "code",
   "execution_count": 67,
   "id": "d7a1b61a",
   "metadata": {},
   "outputs": [
    {
     "data": {
      "text/plain": [
       "'low est_'"
      ]
     },
     "execution_count": 67,
     "metadata": {},
     "output_type": "execute_result"
    }
   ],
   "source": [
    "newWord"
   ]
  },
  {
   "cell_type": "code",
   "execution_count": null,
   "id": "74084712",
   "metadata": {},
   "outputs": [],
   "source": []
  }
 ],
 "metadata": {
  "kernelspec": {
   "display_name": "Python 3",
   "language": "python",
   "name": "python3"
  },
  "language_info": {
   "codemirror_mode": {
    "name": "ipython",
    "version": 3
   },
   "file_extension": ".py",
   "mimetype": "text/x-python",
   "name": "python",
   "nbconvert_exporter": "python",
   "pygments_lexer": "ipython3",
   "version": "3.7.10"
  }
 },
 "nbformat": 4,
 "nbformat_minor": 5
}
